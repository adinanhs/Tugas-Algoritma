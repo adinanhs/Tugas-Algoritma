{
 "cells": [
  {
   "cell_type": "code",
   "execution_count": 1,
   "id": "a68d28f6",
   "metadata": {},
   "outputs": [],
   "source": [
    "# Adina Nur Halimah Sanwani\n",
    "# 2208541033\n",
    "# [Perbaikan] Tugas 2"
   ]
  },
  {
   "cell_type": "markdown",
   "id": "0a7d239c",
   "metadata": {},
   "source": [
    "# 5.1 Print"
   ]
  },
  {
   "cell_type": "markdown",
   "id": "0da9dd99",
   "metadata": {},
   "source": [
    "Perintah untuk mencetak tulisan yang berada di dalam print(\" \") atau print(''). Tidak terdapat perbedaan antara penggunaan (\" \") atau (' ')"
   ]
  },
  {
   "cell_type": "code",
   "execution_count": 2,
   "id": "94235938",
   "metadata": {},
   "outputs": [
    {
     "name": "stdout",
     "output_type": "stream",
     "text": [
      "I don't like you!\n"
     ]
    }
   ],
   "source": [
    "#mencetak perintah print dengan print(\" \")\n",
    "print(\"I don't like you!\")"
   ]
  },
  {
   "cell_type": "code",
   "execution_count": 3,
   "id": "696d367f",
   "metadata": {},
   "outputs": [
    {
     "name": "stdout",
     "output_type": "stream",
     "text": [
      "Wake up little girl, time to school\n"
     ]
    }
   ],
   "source": [
    "#mencetak perintah print dengan print(' ')\n",
    "print('Wake up little girl, time to school')"
   ]
  },
  {
   "cell_type": "code",
   "execution_count": 4,
   "id": "b650f0b6",
   "metadata": {},
   "outputs": [
    {
     "name": "stdout",
     "output_type": "stream",
     "text": [
      "Mr. Bean : Good morning all. \n",
      "Students : Morning, Sir.\n"
     ]
    }
   ],
   "source": [
    "#ditunjukan penggunaan \\n dalam print\n",
    "print(\"Mr. Bean : Good morning all. \\nStudents : Morning, Sir.\")\n",
    "\n",
    "#penggunaan \\n berguna untuk membuat baris baru"
   ]
  },
  {
   "cell_type": "code",
   "execution_count": 5,
   "id": "22e0f0d3",
   "metadata": {},
   "outputs": [
    {
     "name": "stdout",
     "output_type": "stream",
     "text": [
      "Adina Nur Halimah Sanwani\n"
     ]
    }
   ],
   "source": [
    "info1 = 'Adina'\n",
    "info2 = ' Nur Halimah'\n",
    "info3 = ' Sanwani' #dilarang menggunakan nama variabel yang sama, agar run yang dilakukan tidak menggunakan variabel terakhir\n",
    "#misal info3 = 'adina', info3 = 'Adina', maka print yang akan terbaca adalah info3 = 'Adina'\n",
    "\n",
    "#menggunakan + untuk mencetak gabungan dari ketiga variabel\n",
    "print(info1 + info2 + info3)"
   ]
  },
  {
   "cell_type": "markdown",
   "id": "2c4562fc",
   "metadata": {},
   "source": [
    "# 5.2 Input"
   ]
  },
  {
   "cell_type": "markdown",
   "id": "7507624e",
   "metadata": {},
   "source": [
    "Input berfungsi jika kita ingin mendapatkan informasi dari pengguna. Sehingga pengguna dapat mengisi jawaban bebas pada kolom"
   ]
  },
  {
   "cell_type": "code",
   "execution_count": 6,
   "id": "6db9bd04",
   "metadata": {},
   "outputs": [
    {
     "name": "stdout",
     "output_type": "stream",
     "text": [
      "Berapakah jumlah mahasiswi wanita di prodi matematika? 77\n",
      "Berapakah jumlah mahasiswa pria di prodi matematika? 90\n",
      "Total mahasiswa/i prodi matematika adalah 167 orang\n"
     ]
    }
   ],
   "source": [
    "#ditulis variabel inpu sebagai berikut :\n",
    "mahasiswi = input(\"Berapakah jumlah mahasiswi wanita di prodi matematika? \")\n",
    "mahasiswa = input(\"Berapakah jumlah mahasiswa pria di prodi matematika? \")\n",
    "Total = int(mahasiswi) + int(mahasiswa) #menggunakan type data integer untuk mendapatkan hasil pertambahan dari variabel input\n",
    "print(\"Total mahasiswa/i prodi matematika adalah \" + str(Total) + \" \" + \"orang\") #penggunaan string pada Total berfungsi untuk menghasilkan total dari integer dan untuk digabungkan dengan teks "
   ]
  },
  {
   "cell_type": "code",
   "execution_count": 7,
   "id": "0138235e",
   "metadata": {},
   "outputs": [
    {
     "name": "stdout",
     "output_type": "stream",
     "text": [
      "Berapakah jumlah mahasiswi wanita di prodi matematika? 87\n",
      "Berapakah jumlah mahasiswa pria di prodi matematika? 800\n",
      "Total mahasiswa/i prodi matematika adalah 887 orang\n"
     ]
    }
   ],
   "source": [
    "mahasiswi = int(input(\"Berapakah jumlah mahasiswi wanita di prodi matematika? \"))\n",
    "mahasiswa = int(input(\"Berapakah jumlah mahasiswa pria di prodi matematika? \"))\n",
    "print(\"Total mahasiswa/i prodi matematika adalah \" + str(mahasiswi + mahasiswa) + \" \" + \"orang\")\n",
    "\n",
    "#apabila tidak menggunakan variabel total,\n",
    "#maka type data string digunakan untuk menjumlahkan hasil dari integer yang terdapat pada variabel"
   ]
  },
  {
   "cell_type": "markdown",
   "id": "f092e36b",
   "metadata": {},
   "source": [
    "# 5.3 Tipe Data pada Python"
   ]
  },
  {
   "cell_type": "code",
   "execution_count": 8,
   "id": "3377e9c4",
   "metadata": {},
   "outputs": [],
   "source": [
    "# Terdapat 3 tipe data pada python.\n",
    "\n",
    "# 1. Integer (Bilangan bulat) ditulis int\n",
    "# 2. Float (Bilangan Real) ditulis float\n",
    "# 3. String ditulis str \n",
    "# 4. Boolean (True or False) ditulis bool"
   ]
  },
  {
   "cell_type": "code",
   "execution_count": 9,
   "id": "ab4a7d2c",
   "metadata": {},
   "outputs": [
    {
     "name": "stdout",
     "output_type": "stream",
     "text": [
      "True\n"
     ]
    }
   ],
   "source": [
    "#diberikan variabel sebagai berikut\n",
    "\n",
    "a = 7\n",
    "b = 11\n",
    "\n",
    "#code akan menghasilkan type data boolean yaitu true or false\n",
    "contoh1 = print (a > 5 and b < 12)"
   ]
  },
  {
   "cell_type": "code",
   "execution_count": 11,
   "id": "7c83f910",
   "metadata": {},
   "outputs": [
    {
     "name": "stdout",
     "output_type": "stream",
     "text": [
      "Berapa pendapatan warung hari ini? 7000\n",
      "Berapa pendapatan warung kemarin? 6000\n",
      "Total pendapat warung sekarang adalah Rp13000\n"
     ]
    }
   ],
   "source": [
    "uang1 = input(\"Berapa pendapatan warung hari ini? \")\n",
    "uang2 = input(\"Berapa pendapatan warung kemarin? \")\n",
    "total = int(uang1) + int(uang2)\n",
    "print(\"Total pendapat warung sekarang adalah Rp\" + str(total))"
   ]
  },
  {
   "cell_type": "code",
   "execution_count": 12,
   "id": "e96a3e89",
   "metadata": {},
   "outputs": [
    {
     "data": {
      "text/plain": [
       "str"
      ]
     },
     "execution_count": 12,
     "metadata": {},
     "output_type": "execute_result"
    }
   ],
   "source": [
    "#mengetahui type data pada variabel\n",
    "type(uang1)"
   ]
  },
  {
   "cell_type": "code",
   "execution_count": 13,
   "id": "b105719a",
   "metadata": {},
   "outputs": [
    {
     "data": {
      "text/plain": [
       "int"
      ]
     },
     "execution_count": 13,
     "metadata": {},
     "output_type": "execute_result"
    }
   ],
   "source": [
    "#mengetahui type data pada variabel\n",
    "type(total)"
   ]
  },
  {
   "cell_type": "markdown",
   "id": "573c1c3d",
   "metadata": {},
   "source": [
    "# 5.4 Formatted String"
   ]
  },
  {
   "cell_type": "markdown",
   "id": "5ea7d03e",
   "metadata": {},
   "source": [
    "Fungsi formatted string adalah digunakan untuk menggabungkan nilai-nilai variabel ke dalam string dengan terstruktur dan untuk mempermudah penulisan nilai variabel yang ingin dicetak pada perintah print."
   ]
  },
  {
   "cell_type": "code",
   "execution_count": 14,
   "id": "7ee795a3",
   "metadata": {},
   "outputs": [
    {
     "name": "stdout",
     "output_type": "stream",
     "text": [
      "Halo! my name is Adina! I am 19 years old. I love BTS so much! Nice to meet you!\n"
     ]
    }
   ],
   "source": [
    "#akan dimasukan variabel sebagai berikut :\n",
    "name  = 'Adina'\n",
    "age  = '19'\n",
    "fave  = 'BTS'\n",
    "\n",
    "#pada code ini, ditunjukan mencetak dengan cara tanpa formatted string\n",
    "print ('Halo! my name is ' + name + '! I am '  + age + ' years old. I love ' + fave + ' so much! Nice to meet you!')"
   ]
  },
  {
   "cell_type": "code",
   "execution_count": 15,
   "id": "9eadacc4",
   "metadata": {},
   "outputs": [
    {
     "name": "stdout",
     "output_type": "stream",
     "text": [
      "Halo! my name is Adina! I am 19 years old. I love BTS so much! Nice to meet you!\n"
     ]
    }
   ],
   "source": [
    "#pada code ini, akan ditunjukan mencetak dengan formatted string\n",
    "\n",
    "#code terlihat lebih simpel, karena penggunaan formatted string mempermudah penulisan nilai variabel\n",
    "print(f\"Halo! my name is {name}! I am {age} years old. I love {fave} so much! Nice to meet you!\")\n",
    "#penggunaan formatted string diawali dengan f, lalu penulisan variabel menggunakan kurung kurawal {}"
   ]
  },
  {
   "cell_type": "code",
   "execution_count": 16,
   "id": "f3a01a8a",
   "metadata": {},
   "outputs": [
    {
     "name": "stdout",
     "output_type": "stream",
     "text": [
      "The sum of 98796483 and 84628021 is 183424504\n"
     ]
    }
   ],
   "source": [
    "#akan dimasukan variabel sebagai berikut :\n",
    "\n",
    "x = 98796483\n",
    "y = 84628021\n",
    "\n",
    "#digunakan formatted string untuk melakukan operasi\n",
    "#formatted string dapat menggunakan variabel baru seperti berikut :\n",
    "result = f\"The sum of {x} and {y} is {x + y}\" #operasi matematika juga dapat dijalankan pada formatted string\n",
    "\n",
    "#mencetak variabel result\n",
    "print(result)"
   ]
  }
 ],
 "metadata": {
  "kernelspec": {
   "display_name": "Python 3 (ipykernel)",
   "language": "python",
   "name": "python3"
  },
  "language_info": {
   "codemirror_mode": {
    "name": "ipython",
    "version": 3
   },
   "file_extension": ".py",
   "mimetype": "text/x-python",
   "name": "python",
   "nbconvert_exporter": "python",
   "pygments_lexer": "ipython3",
   "version": "3.9.13"
  }
 },
 "nbformat": 4,
 "nbformat_minor": 5
}
