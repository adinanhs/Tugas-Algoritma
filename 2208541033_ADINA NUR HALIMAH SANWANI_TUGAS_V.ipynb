{
 "cells": [
  {
   "cell_type": "raw",
   "id": "c3d14ee7",
   "metadata": {},
   "source": [
    "-----PENDAHULUAN-----\n",
    "\n",
    "regresi linier = menggunakan polinom\n",
    "2 titik (ax + b) butuh 2 titik (a,b)\n",
    "3 titik (ax^2 + bx + c) butuh 3 titik (a,b,c)\n",
    "4 titik (ax^3 + bx^2 + cx + d) butuh 4 titik (a,b,c,d)\n",
    "maka bila kita memiliki 10 titik, maka kita pakai (ax^9 + ... + ...)\n",
    "\n",
    "#enggunakan polinom karena grafik yang didapat akan semakin tajam"
   ]
  },
  {
   "cell_type": "markdown",
   "id": "ddea82c1",
   "metadata": {},
   "source": [
    "# 5.16 List 2 Dimensi"
   ]
  },
  {
   "cell_type": "markdown",
   "id": "7243f1ce",
   "metadata": {},
   "source": [
    "Berfungsi untuk menempatkan sebuah list di dalam list. Penggambaran seperti sebuah matrix."
   ]
  },
  {
   "cell_type": "code",
   "execution_count": 1,
   "id": "749c3388",
   "metadata": {},
   "outputs": [
    {
     "name": "stdout",
     "output_type": "stream",
     "text": [
      "[[1, 2, 3, 4], [2, 3, 0, 1], [0, 5, 0, 4], [3, 1, 9, 5]]\n"
     ]
    }
   ],
   "source": [
    "#masukkan data matrix\n",
    "#penggunaan list 2 dimensi menggunakan kurung siku\n",
    "matrix = [\n",
    "    [1,2,3,4],\n",
    "    [2,3,0,1],\n",
    "    [0,5,0,4],\n",
    "    [3,1,9,5]\n",
    "]\n",
    "\n",
    "print(matrix) #akan tercetak list di dalam variabel matrix"
   ]
  },
  {
   "cell_type": "code",
   "execution_count": 2,
   "id": "3c813659",
   "metadata": {},
   "outputs": [
    {
     "name": "stdout",
     "output_type": "stream",
     "text": [
      "Hasil matrix baris index nomor 1 adalah : [2, 3, 0, 1]\n",
      "Hasil matrix baris index nomor 1 dan kolom index nomor 2 adalah : 0\n"
     ]
    }
   ],
   "source": [
    "#penghitungan list dimulai dari baris 0 sampai baris-n\n",
    "#penghitungan list juga dimulai dari kolom 0 sampai kolom-n\n",
    "\n",
    "#memanggil matrix pada baris index nomor 1\n",
    "print(f\"Hasil matrix baris index nomor 1 adalah : {matrix [1]}\")\n",
    "\n",
    "\n",
    "#memanggil matrix pada baris index nomor 1 dan kolom index nomor 2\n",
    "print(f\"Hasil matrix baris index nomor 1 dan kolom index nomor 2 adalah : {matrix[1][2]}\")"
   ]
  },
  {
   "cell_type": "code",
   "execution_count": 3,
   "id": "c701c461",
   "metadata": {},
   "outputs": [
    {
     "name": "stdout",
     "output_type": "stream",
     "text": [
      "Nilai baru pada matrix baris index nomor dan kolom index nomor 3 adalah : 8\n",
      "Data terbaru dalam matrix : [[1, 2, 3, 4], [2, 3, 0, 1], [0, 5, 0, 8], [3, 1, 9, 5]]\n"
     ]
    }
   ],
   "source": [
    "#berfungsi untuk mengubah nilai index dalam baris dan kolom matrix menjadi nilai index yang baru\n",
    "\n",
    "#pada code ini akan dicoba merubah matrix baris index nomor 2 dan kolom index nomor 3 menjadi 8\n",
    "matrix[2][3]=8\n",
    "print(f\"Nilai baru pada matrix baris index nomor dan kolom index nomor 3 adalah : {matrix[2][3]}\")\n",
    "\n",
    "\n",
    "#data yang diubah akan menjadi data permanen\n",
    "#sehingga ketika mencetak ulang matrix, maka matrix yang didapat adalah matrix dengan data terbaru\n",
    "print(f\"Data terbaru dalam matrix : {matrix}\")"
   ]
  },
  {
   "cell_type": "code",
   "execution_count": 4,
   "id": "79ccbf95",
   "metadata": {
    "scrolled": true
   },
   "outputs": [
    {
     "name": "stdout",
     "output_type": "stream",
     "text": [
      "[1, 2, 3, 4]\n",
      "1\n",
      "2\n",
      "3\n",
      "4\n",
      "[2, 3, 0, 1]\n",
      "2\n",
      "3\n",
      "0\n",
      "1\n",
      "[0, 5, 0, 8]\n",
      "0\n",
      "5\n",
      "0\n",
      "8\n",
      "[3, 1, 9, 5]\n",
      "3\n",
      "1\n",
      "9\n",
      "5\n"
     ]
    }
   ],
   "source": [
    "#cara memanggil anggota dari list 2 dimensi\n",
    "\n",
    "#akan digunakan fungsi for untuk memanggil anggota dari list 2 dimensi\n",
    "for baris in matrix: #selesain dulu disini\n",
    "    print(baris)\n",
    "    #apabila print baris sudah selesai maka selanjutnya akan mencetak kolom\n",
    "    \n",
    "    for kolom in baris: #baru selesain disini\n",
    "        print(kolom)\n",
    "        \n",
    "        #sehingga hasil print yang didapatkan adalah pengulangan anggota-anggota di dalam matrix baris\n",
    "        #dilakukan pengulangan sampai setiap baris dari data list sudah terbaca semua"
   ]
  },
  {
   "cell_type": "markdown",
   "id": "6ba70258",
   "metadata": {},
   "source": [
    "# 5.17 Tuples"
   ]
  },
  {
   "cell_type": "markdown",
   "id": "fe641d25",
   "metadata": {},
   "source": [
    "List namun tidak dapat mengubah isi data."
   ]
  },
  {
   "cell_type": "code",
   "execution_count": 5,
   "id": "688d545c",
   "metadata": {},
   "outputs": [
    {
     "name": "stdout",
     "output_type": "stream",
     "text": [
      "Data urutan ke-0 dalam bilangan adalah : 2\n"
     ]
    }
   ],
   "source": [
    "#perbedaan tuples dan list diketahui dengan penggunaan tutup kurung\n",
    "#list menggunakan kurung siku, sedangkan tuples menggunakan kurung biasa\n",
    "\n",
    "#dimasukkan isi dalam data bilangan\n",
    "bilangan = (2,3,0,1,0,5,0,4,0,4)\n",
    "\n",
    "#seperti list, akan mencetak index nomor 0, dimana index nomor 0 merupakan urutan paling awal dalam list\n",
    "print(f\"Data urutan ke-0 dalam bilangan adalah : {bilangan[0]}\")"
   ]
  },
  {
   "cell_type": "code",
   "execution_count": 6,
   "id": "02827815",
   "metadata": {},
   "outputs": [
    {
     "name": "stdout",
     "output_type": "stream",
     "text": [
      "(1, 0, 5)\n"
     ]
    }
   ],
   "source": [
    "#memanggil index nomor 3 sampai index nomor 5 (sesuai syntax pada python)\n",
    "print(bilangan[3:6])"
   ]
  },
  {
   "cell_type": "code",
   "execution_count": 7,
   "id": "805effec",
   "metadata": {},
   "outputs": [
    {
     "ename": "NameError",
     "evalue": "name 'angka' is not defined",
     "output_type": "error",
     "traceback": [
      "\u001b[1;31m---------------------------------------------------------------------------\u001b[0m",
      "\u001b[1;31mNameError\u001b[0m                                 Traceback (most recent call last)",
      "\u001b[1;32m~\\AppData\\Local\\Temp\\ipykernel_16932\\1211163524.py\u001b[0m in \u001b[0;36m<module>\u001b[1;34m\u001b[0m\n\u001b[0;32m      1\u001b[0m \u001b[1;31m#penggunaan for untuk mencetak isi yang dicari dengan pengulangan satu persatu\u001b[0m\u001b[1;33m\u001b[0m\u001b[1;33m\u001b[0m\u001b[0m\n\u001b[0;32m      2\u001b[0m \u001b[1;31m#sehingga list yang keluar akan berupa baris kebawah\u001b[0m\u001b[1;33m\u001b[0m\u001b[1;33m\u001b[0m\u001b[0m\n\u001b[1;32m----> 3\u001b[1;33m \u001b[1;32mfor\u001b[0m \u001b[0misi\u001b[0m \u001b[1;32min\u001b[0m \u001b[0mangka\u001b[0m\u001b[1;33m[\u001b[0m\u001b[1;36m3\u001b[0m\u001b[1;33m:\u001b[0m\u001b[1;36m5\u001b[0m\u001b[1;33m]\u001b[0m\u001b[1;33m:\u001b[0m\u001b[1;33m\u001b[0m\u001b[1;33m\u001b[0m\u001b[0m\n\u001b[0m\u001b[0;32m      4\u001b[0m     \u001b[0mprint\u001b[0m\u001b[1;33m(\u001b[0m\u001b[0misi\u001b[0m\u001b[1;33m)\u001b[0m\u001b[1;33m\u001b[0m\u001b[1;33m\u001b[0m\u001b[0m\n",
      "\u001b[1;31mNameError\u001b[0m: name 'angka' is not defined"
     ]
    }
   ],
   "source": [
    "#penggunaan for untuk mencetak isi yang dicari dengan pengulangan satu persatu\n",
    "#sehingga list yang keluar akan berupa baris kebawah\n",
    "for isi in angka[3:5]:\n",
    "    print(isi)"
   ]
  },
  {
   "cell_type": "code",
   "execution_count": 8,
   "id": "75a06937",
   "metadata": {},
   "outputs": [
    {
     "ename": "AttributeError",
     "evalue": "'tuple' object has no attribute 'remove'",
     "output_type": "error",
     "traceback": [
      "\u001b[1;31m---------------------------------------------------------------------------\u001b[0m",
      "\u001b[1;31mAttributeError\u001b[0m                            Traceback (most recent call last)",
      "\u001b[1;32m~\\AppData\\Local\\Temp\\ipykernel_16932\\686322000.py\u001b[0m in \u001b[0;36m<module>\u001b[1;34m\u001b[0m\n\u001b[0;32m      1\u001b[0m \u001b[1;31m#penggunaan remove untuk menghapus isi list dalam data\u001b[0m\u001b[1;33m\u001b[0m\u001b[1;33m\u001b[0m\u001b[0m\n\u001b[1;32m----> 2\u001b[1;33m \u001b[0mbilangan\u001b[0m\u001b[1;33m.\u001b[0m\u001b[0mremove\u001b[0m\u001b[1;33m(\u001b[0m\u001b[1;36m3\u001b[0m\u001b[1;33m)\u001b[0m\u001b[1;33m\u001b[0m\u001b[1;33m\u001b[0m\u001b[0m\n\u001b[0m\u001b[0;32m      3\u001b[0m \u001b[1;33m\u001b[0m\u001b[0m\n\u001b[0;32m      4\u001b[0m \u001b[1;31m#akan terjadi error karena penggunaan tuples tidak dapat mengubah isi dalam data\u001b[0m\u001b[1;33m\u001b[0m\u001b[1;33m\u001b[0m\u001b[0m\n\u001b[0;32m      5\u001b[0m \u001b[1;31m#sehingga tidak dapat menghapus isi dalam data\u001b[0m\u001b[1;33m\u001b[0m\u001b[1;33m\u001b[0m\u001b[0m\n",
      "\u001b[1;31mAttributeError\u001b[0m: 'tuple' object has no attribute 'remove'"
     ]
    }
   ],
   "source": [
    "#penggunaan remove untuk menghapus isi list dalam data\n",
    "bilangan.remove(3)\n",
    "\n",
    "#akan terjadi error karena penggunaan tuples tidak dapat mengubah isi dalam data\n",
    "#sehingga tidak dapat menghapus isi dalam data"
   ]
  },
  {
   "cell_type": "code",
   "execution_count": 9,
   "id": "cf322b3c",
   "metadata": {},
   "outputs": [
    {
     "ename": "AttributeError",
     "evalue": "'tuple' object has no attribute 'append'",
     "output_type": "error",
     "traceback": [
      "\u001b[1;31m---------------------------------------------------------------------------\u001b[0m",
      "\u001b[1;31mAttributeError\u001b[0m                            Traceback (most recent call last)",
      "\u001b[1;32m~\\AppData\\Local\\Temp\\ipykernel_16932\\1094752054.py\u001b[0m in \u001b[0;36m<module>\u001b[1;34m\u001b[0m\n\u001b[0;32m      1\u001b[0m \u001b[1;31m#penggunaan append untuk menambahkan isi dalam data\u001b[0m\u001b[1;33m\u001b[0m\u001b[1;33m\u001b[0m\u001b[0m\n\u001b[1;32m----> 2\u001b[1;33m \u001b[0mbilangan\u001b[0m\u001b[1;33m.\u001b[0m\u001b[0mappend\u001b[0m\u001b[1;33m(\u001b[0m\u001b[1;36m10\u001b[0m\u001b[1;33m)\u001b[0m\u001b[1;33m\u001b[0m\u001b[1;33m\u001b[0m\u001b[0m\n\u001b[0m\u001b[0;32m      3\u001b[0m \u001b[1;33m\u001b[0m\u001b[0m\n\u001b[0;32m      4\u001b[0m \u001b[1;31m#akan terjadi error karena penggunaan tuples tidak dapat mengubah isi data\u001b[0m\u001b[1;33m\u001b[0m\u001b[1;33m\u001b[0m\u001b[0m\n\u001b[0;32m      5\u001b[0m \u001b[1;31m#sehingga tidak dapat menambah isi dalam data\u001b[0m\u001b[1;33m\u001b[0m\u001b[1;33m\u001b[0m\u001b[0m\n",
      "\u001b[1;31mAttributeError\u001b[0m: 'tuple' object has no attribute 'append'"
     ]
    }
   ],
   "source": [
    "#penggunaan append untuk menambahkan isi dalam data\n",
    "bilangan.append(10)\n",
    "\n",
    "#akan terjadi error karena penggunaan tuples tidak dapat mengubah isi data\n",
    "#sehingga tidak dapat menambah isi dalam data"
   ]
  },
  {
   "cell_type": "code",
   "execution_count": 10,
   "id": "bfddf7ba",
   "metadata": {},
   "outputs": [
    {
     "name": "stdout",
     "output_type": "stream",
     "text": [
      "Banyaknya angka 0 dalam data bilangan adalah : 4\n",
      "Isi di index nomor 3 dalam data bilangan adalah : 1\n"
     ]
    }
   ],
   "source": [
    "#penggunaan count adalah untuk menghitung banyaknya isi dalam data yang ingin dicari\n",
    "#dalam code ini akan dicari berapa banyak angka 0 dalam data bilangan\n",
    "print(f\"Banyaknya angka 0 dalam data bilangan adalah : {bilangan.count(0)}\")\n",
    "\n",
    "#penggunaan index berfungsi untuk mencari isi dalam data sesuai urutan yang akan dipanggil\n",
    "#dalam code ini akan memanggil isi dengan index nomor 3 dalam data\n",
    "print(f\"Isi di index nomor 3 dalam data bilangan adalah : {bilangan.index(3)}\")"
   ]
  },
  {
   "cell_type": "markdown",
   "id": "c7db7e36",
   "metadata": {},
   "source": [
    "# 5.18 Dictionaries"
   ]
  },
  {
   "cell_type": "markdown",
   "id": "e26c38c8",
   "metadata": {},
   "source": [
    "Digunakan jika data nya terkait satu sama lain. "
   ]
  },
  {
   "cell_type": "code",
   "execution_count": 11,
   "id": "1a4f17bb",
   "metadata": {},
   "outputs": [],
   "source": [
    "#untuk memasukkan data dalam dictionary dapat menggunakan kurung kurawal\n",
    "#sehingga dimasukkan data seseorang sebagai berikut : \n",
    "data1 = {\n",
    "    \"Nama\" : \"Jeon Jungkook\",\n",
    "    \"Umur\" : 26,                 #selalu menggunakan koma setelah objek data dimasukkan\n",
    "    \"Tempat Tinggal\" : \"Korea Selatan\",\n",
    "    \"Pekerjaan\" : \"Penyanyi\"     #untuk objek data paling terakhir tidak diperlukan koma\n",
    "}"
   ]
  },
  {
   "cell_type": "code",
   "execution_count": 12,
   "id": "3285fff0",
   "metadata": {},
   "outputs": [
    {
     "name": "stdout",
     "output_type": "stream",
     "text": [
      "Jeon Jungkook\n"
     ]
    }
   ],
   "source": [
    "#data akan tercetak apabila kata kunci yang dipakai sesuai dengan yang ada di dalam data\n",
    "#misal seperti persamaan pada penggunaan huruf kapital, huruf kecil, simbol, dll\n",
    "\n",
    "print(data1['Nama'])"
   ]
  },
  {
   "cell_type": "code",
   "execution_count": 13,
   "id": "1f411a2a",
   "metadata": {},
   "outputs": [
    {
     "ename": "KeyError",
     "evalue": "'nama'",
     "output_type": "error",
     "traceback": [
      "\u001b[1;31m---------------------------------------------------------------------------\u001b[0m",
      "\u001b[1;31mKeyError\u001b[0m                                  Traceback (most recent call last)",
      "\u001b[1;32m~\\AppData\\Local\\Temp\\ipykernel_16932\\2276789483.py\u001b[0m in \u001b[0;36m<module>\u001b[1;34m\u001b[0m\n\u001b[0;32m      1\u001b[0m \u001b[1;31m#data akan menghasilkan error apabila kata kunci yang dipakai tidak sesuai dengan yang ada di dalam data\u001b[0m\u001b[1;33m\u001b[0m\u001b[1;33m\u001b[0m\u001b[0m\n\u001b[1;32m----> 2\u001b[1;33m \u001b[0mprint\u001b[0m\u001b[1;33m(\u001b[0m\u001b[0mdata1\u001b[0m\u001b[1;33m[\u001b[0m\u001b[1;34m'nama'\u001b[0m\u001b[1;33m]\u001b[0m\u001b[1;33m)\u001b[0m\u001b[1;33m\u001b[0m\u001b[1;33m\u001b[0m\u001b[0m\n\u001b[0m",
      "\u001b[1;31mKeyError\u001b[0m: 'nama'"
     ]
    }
   ],
   "source": [
    "#data akan menghasilkan error apabila kata kunci yang dipakai tidak sesuai dengan yang ada di dalam data\n",
    "print(data1['nama'])"
   ]
  },
  {
   "cell_type": "code",
   "execution_count": 14,
   "id": "9ba518e5",
   "metadata": {},
   "outputs": [
    {
     "name": "stdout",
     "output_type": "stream",
     "text": [
      "Hasil pemanggilan get sesuai kata kunci yang ada dalam data :\n",
      "Umur Jeon Jungkook -> 26\n",
      "\n",
      "\n",
      "Hasil dari pemanggilan get tidak sesuai kata kunci yang ada dalam data :\n",
      "umur Jeon Jungkook -> None\n",
      "\n",
      "\n",
      "Hasil dari pemanggilan get yang tidak ada kata kuncinya dalam data : \n",
      "Pendidikan terakhir Jeon Jungkook -> None\n"
     ]
    }
   ],
   "source": [
    "#tidak seperti kode di atas yang menghasilkan error, terdapat fungsi 'get' untuk pemanggilan yang salah namun tidak error\n",
    "#sehingga fungsi 'get' digunakan agar mencegah sistem untuk menampilakn error\n",
    "\n",
    "#pada code ini akan diberikan pemanggilan sesuai kata kunci dalam dict\n",
    "print(\"Hasil pemanggilan get sesuai kata kunci yang ada dalam data :\")\n",
    "print(f\"Umur Jeon Jungkook -> {data1.get('Umur')}\")\n",
    "\n",
    "\n",
    "#pada code ini akan diberikan pemanggilan tidak sesuai kata kunci dalam dict\n",
    "#kata kunci dapat disebut salah karena dalam dict Umur menggunakan huruf kapital pada karakter U\n",
    "print(\"\\n\")\n",
    "print(\"Hasil dari pemanggilan get tidak sesuai kata kunci yang ada dalam data :\")\n",
    "print(f\"umur Jeon Jungkook -> {data1.get('umur')}\")\n",
    "#output yang akan didapatkan adalah None\n",
    "\n",
    "\n",
    "#selanjutnya fungsi 'get' dapat melihat apakah suatu objek data terdapat dalam data atau tidak\n",
    "#pada contoh kode ini akan dicari Pendidikan terakhir, dimana Pendidikan terakhir tidak terdapat dalam data dict\n",
    "print(\"\\n\")\n",
    "print(\"Hasil dari pemanggilan get yang tidak ada kata kuncinya dalam data : \")\n",
    "print(f\"Pendidikan terakhir Jeon Jungkook -> {data1.get('Pendidikan Terakhir')}\")"
   ]
  },
  {
   "cell_type": "code",
   "execution_count": 15,
   "id": "5f9f209e",
   "metadata": {},
   "outputs": [
    {
     "name": "stdout",
     "output_type": "stream",
     "text": [
      "Pendidikan terakhir Jeon Jungkook : Sarjana Broadcasting and Entertainment\n",
      "\n",
      "Data Jeon Jungkook : \n",
      "{'Nama': 'Jeon Jungkook', 'Umur': 26, 'Tempat Tinggal': 'Korea Selatan', 'Pekerjaan': 'Penyanyi'}\n"
     ]
    }
   ],
   "source": [
    "#untuk mencetak hasil Sekolah Asal, maka fungsi 'get' dapat digunakan sebagai berikut :\n",
    "\n",
    "#pada kode ini akan tercetak Sekolah Asal Jeon Jungkook\n",
    "print(f\"Pendidikan terakhir Jeon Jungkook : {data1.get('Pendidikan terakhir','Sarjana Broadcasting and Entertainment')}\")\n",
    "\n",
    "#namun data yang akan dihasilkan tidak permanen, sehingga jika kita mencetak data terbaru, output yang didapat adalah data lama\n",
    "print(\"\\nData Jeon Jungkook : \")\n",
    "print(data1)"
   ]
  },
  {
   "cell_type": "code",
   "execution_count": 16,
   "id": "c1fad473",
   "metadata": {},
   "outputs": [],
   "source": [
    "#untuk menambahkan data dalam dict\n",
    "\n",
    "data1['Pendidikan terakhir'] = 'Sarjana Broadcasting and Entertainment'\n",
    "data1['Pacar'] = 'Adina'\n",
    "\n",
    "#data yang dimasukkan akan permanen"
   ]
  },
  {
   "cell_type": "code",
   "execution_count": 17,
   "id": "d1582fe1",
   "metadata": {},
   "outputs": [
    {
     "name": "stdout",
     "output_type": "stream",
     "text": [
      "{'Nama': 'Jeon Jungkook', 'Umur': 26, 'Tempat Tinggal': 'Korea Selatan', 'Pekerjaan': 'Penyanyi', 'Pendidikan terakhir': 'Sarjana Broadcasting and Entertainment', 'Pacar': 'Adina'}\n"
     ]
    }
   ],
   "source": [
    "#akan didapat data terbaru\n",
    "print(data1)"
   ]
  },
  {
   "cell_type": "code",
   "execution_count": 18,
   "id": "490670e0",
   "metadata": {},
   "outputs": [
    {
     "name": "stdout",
     "output_type": "stream",
     "text": [
      "Nama : Jeon Jungkook\n",
      "Umur : 26\n",
      "Tempat Tinggal : Korea Selatan\n",
      "Pekerjaan : Penyanyi\n",
      "Pendidikan terakhir : Sarjana Broadcasting and Entertainment\n",
      "Pacar : Adina\n"
     ]
    }
   ],
   "source": [
    "for data in data1:\n",
    "    print(data, ':', data1[data])"
   ]
  },
  {
   "cell_type": "code",
   "execution_count": 19,
   "id": "5593fc26",
   "metadata": {},
   "outputs": [],
   "source": [
    "#program membaca sandi AN dalam pramuka\n",
    "\n",
    "#masukkan data sandi AN\n",
    "AN = {\n",
    "    \"n\" : \"A\",\n",
    "    \"o\" : \"B\",\n",
    "    \"p\" : \"C\",\n",
    "    \"q\" : \"D\",\n",
    "    \"r\" : \"E\",\n",
    "    \"s\" : \"F\",\n",
    "    \"t\" : \"G\",\n",
    "    \"u\" : \"H\",\n",
    "    \"v\" : \"I\",\n",
    "    \"w\" : \"J\",\n",
    "    \"x\" : \"K\",\n",
    "    \"y\" : \"L\",\n",
    "    \"z\" : \"M\",\n",
    "    \"a\" : \"N\",\n",
    "    \"b\" : \"O\",\n",
    "    \"c\" : \"P\",\n",
    "    \"d\" : \"Q\",\n",
    "    \"e\" : \"R\",\n",
    "    \"f\" : \"S\",\n",
    "    \"g\" : \"T\",\n",
    "    \"h\" : \"U\",\n",
    "    \"i\" : \"V\",\n",
    "    \"j\" : \"W\",\n",
    "    \"k\" : \"X\",\n",
    "    \"l\" : \"Y\",\n",
    "    \"m\" : \"Z\"\n",
    "}"
   ]
  },
  {
   "cell_type": "code",
   "execution_count": 20,
   "id": "daec0cf7",
   "metadata": {
    "scrolled": true
   },
   "outputs": [
    {
     "name": "stdout",
     "output_type": "stream",
     "text": [
      "Masukkan sandi yang ingin dicari : nqvan\n",
      "Hasil dari sandi adalah : A D I N A \n"
     ]
    }
   ],
   "source": [
    "sandi_AN = input(\"Masukkan sandi yang ingin dicari : \")\n",
    "huruf_AN = \"\"\n",
    "\n",
    "for isi in sandi_AN :\n",
    "    #akan melakukan pemanggilan dalam setiap sandi AN apabila isi yang dimasukkan terdapat dalam data AN\n",
    "    huruf_AN += AN.get(isi) + \" \"\n",
    "print(f\"Hasil dari sandi adalah : {huruf_AN}\")"
   ]
  },
  {
   "cell_type": "markdown",
   "id": "528698c0",
   "metadata": {},
   "source": [
    "# 5.19 Fungsi dalam Python"
   ]
  },
  {
   "cell_type": "code",
   "execution_count": 21,
   "id": "7af62afb",
   "metadata": {},
   "outputs": [],
   "source": [
    "#mencetak format perkenalan\n",
    "\n",
    "#def merupakan tanda kode program merupakan suatu fungsi\n",
    "def biodata(nama_panjang, prodi, angkatan, jalur_masuk):\n",
    "    print(f\"Halo! Perkenalkan saya {nama_panjang} dari prodi {prodi} angkatan {angkatan} jalur masuk saya adalah {jalur_masuk}\")\n",
    "    #pada code ini menggunakan fungsi format string\n",
    "    #tujuannya agar memudahkan penulisan nilai variabel pada parameter yang ingin dicetak pada print"
   ]
  },
  {
   "cell_type": "code",
   "execution_count": 22,
   "id": "d0fa247f",
   "metadata": {},
   "outputs": [
    {
     "name": "stdout",
     "output_type": "stream",
     "text": [
      "Nama Panjang : Adina Nur Halimah Sanwani\n",
      "Prodi : Matematika\n",
      "Angkatan :2022\n",
      "Jalur Masuk : SNMPTN\n",
      "Halo! Perkenalkan saya Adina Nur Halimah Sanwani dari prodi Matematika angkatan 2022 jalur masuk saya adalah SNMPTN\n"
     ]
    }
   ],
   "source": [
    "#penggunaan fungsi input karena akan menghasilkan pencetakan parameter\n",
    "#input harus diisi agar tidak terjadi error ataupun tidak berjalannya suatu code\n",
    "\n",
    "nama_panjang = input(\"Nama Panjang : \")\n",
    "prodi = input(\"Prodi : \")\n",
    "angkatan = input(\"Angkatan :\")\n",
    "jalur_masuk = input(\"Jalur Masuk : \")\n",
    "\n",
    "biodata(nama_panjang, prodi, angkatan, jalur_masuk)\n",
    "#tidak menggunakan print karena pencetakan dan pendefinisian telah ditulis pada code sebelumnya"
   ]
  },
  {
   "cell_type": "code",
   "execution_count": 23,
   "id": "86dca890",
   "metadata": {},
   "outputs": [],
   "source": [
    "#fungsi untuk menghitung sebuah luas jenis bidang\n",
    "\n",
    "def luas_segitiga(alas,tinggi):\n",
    "    luas = (1/2)*alas*tinggi\n",
    "    #return berfungsi untuk mengembalikan nilai dari sebuah fungsi\n",
    "    return luas\n",
    "def luas_persegi(sisi):\n",
    "    luas = sisi**2\n",
    "    return luas\n",
    "def luas_persegi_panjang(panjang,lebar):\n",
    "    luas = panjang*lebar\n",
    "    return luas"
   ]
  },
  {
   "cell_type": "code",
   "execution_count": 24,
   "id": "e0ce5e17",
   "metadata": {},
   "outputs": [
    {
     "name": "stdout",
     "output_type": "stream",
     "text": [
      "Tulis jenis bidangnya : persegi panjang\n",
      "Berapakah panjang sisinya? 7\n",
      "Berapakah lebar sisinya? 8\n",
      "Luas persegi panjang adalah 56.0\n"
     ]
    }
   ],
   "source": [
    "jenis_bidang = input(\"Tulis jenis bidangnya : \")\n",
    "\n",
    "#penggunaan if dan elif untuk penggabungan 2 atau lebih parameter yang akan dibuat\n",
    "if jenis_bidang.upper() == \"SEGITIGA\" :\n",
    "    alas = float(input('Berapakah panjang alasnya? '))\n",
    "    tinggi = float(input('Berapakah tingginya? '))\n",
    "    luas = luas_segitiga(alas,tinggi)\n",
    "    print(f\"Luas {jenis_bidang} adalah {luas}\")\n",
    "    \n",
    "#pada if atau elif bila digabungkan dengan fungsi input, maka tambahkan upper sebagai kata kunci\n",
    "elif jenis_bidang.upper() == 'PERSEGI':\n",
    "    sisi = float(input('Berapakah panjang sisinya? '))\n",
    "    luas = luas_persegi(sisi)\n",
    "    print(f\"Luas {jenis_bidang} adalah {luas}\")\n",
    "elif jenis_bidang.upper() == 'PERSEGI PANJANG':\n",
    "    panjang = float(input('Berapakah panjang sisinya? '))\n",
    "    lebar = float(input('Berapakah lebar sisinya? '))\n",
    "    luas = luas_persegi_panjang(panjang,lebar)\n",
    "    print(f\"Luas {jenis_bidang} adalah {luas}\")\n",
    "else : \n",
    "    print(f\"Maaf bidang {jenis_bidang} yang anda masukkan tidak ada.\")\n",
    "    print(\"Pilihan cuma SEGITIGA, PERSEGI dan PERSEGI PANJANG.\")\n",
    "    print(\"Terimakasih\")"
   ]
  },
  {
   "cell_type": "markdown",
   "id": "197eae17",
   "metadata": {},
   "source": [
    "# 5.20 Numpy"
   ]
  },
  {
   "cell_type": "code",
   "execution_count": 25,
   "id": "e6491304",
   "metadata": {},
   "outputs": [
    {
     "name": "stdout",
     "output_type": "stream",
     "text": [
      "[[0 1 9 7]\n",
      " [3 1 9 5]\n",
      " [2 3 1 4]\n",
      " [9 8 1 3]]\n"
     ]
    }
   ],
   "source": [
    "#np = numpy = numeric python\n",
    "\n",
    "import numpy as np #gunakan code ini agar numpy terbaca oleh python\n",
    "#berfungsi untuk memanggil library numpy\n",
    "\n",
    "#diberikan data array untuk membuat matrix dengan ordo 4x4\n",
    "x = np.array([[0,1,9,7],[3,1,9,5],[2,3,1,4],[9,8,1,3]])\n",
    "print(x)"
   ]
  },
  {
   "cell_type": "code",
   "execution_count": 26,
   "id": "ea2738c2",
   "metadata": {},
   "outputs": [
    {
     "name": "stdout",
     "output_type": "stream",
     "text": [
      "[1 3 5 7]\n"
     ]
    }
   ],
   "source": [
    "#diberikan data array untuk membuat matrix dengan ordo 1x4\n",
    "y = np.array([1,3,5,7])\n",
    "\n",
    "#seperti pada materi aljabar elementer dimana suatu matrix baris yang berordo 1xn juga merupakan vector baris\n",
    "print(y)"
   ]
  },
  {
   "cell_type": "code",
   "execution_count": 27,
   "id": "6af6c33f",
   "metadata": {},
   "outputs": [
    {
     "name": "stdout",
     "output_type": "stream",
     "text": [
      "[[[0 1 2 3]\n",
      "  [0 8 1 3]]\n",
      "\n",
      " [[8 8 8 4]\n",
      "  [9 5 6 2]]\n",
      "\n",
      " [[8 1 5 1]\n",
      "  [3 1 5 7]]]\n"
     ]
    }
   ],
   "source": [
    "#perhatikan perbedaan dalam penggunaan banyak nya kurung siku\n",
    "\n",
    "#akan dimasukkan data seperti berikut\n",
    "z = np.array([[[0,1,2,3],[0,8,1,3]],\n",
    "               [[8,8,8,4],[9,5,6,2]],\n",
    "               [[8,1,5,1],[3,1,5,7]]])\n",
    "\n",
    "#penggunaan kurung siku seperti ini akan menghasilkan dimensi 3\n",
    "#banyak kurung sikut sebanyak 3 akan menghasilkan dimensi 3\n",
    "print(z)"
   ]
  },
  {
   "cell_type": "code",
   "execution_count": 28,
   "id": "4be7bc22",
   "metadata": {},
   "outputs": [
    {
     "name": "stdout",
     "output_type": "stream",
     "text": [
      "[[[[[0 1 2 3]\n",
      "    [0 8 1 3]]]]\n",
      "\n",
      "\n",
      "\n",
      " [[[[8 8 8 4]\n",
      "    [9 5 6 2]]]]\n",
      "\n",
      "\n",
      "\n",
      " [[[[8 1 5 1]\n",
      "    [3 1 5 7]]]]]\n"
     ]
    }
   ],
   "source": [
    "#bila kurung siku terdapat sebanyak 5 maka akan menghasilkan dimensi 5\n",
    "zz = np.array([[[[[0,1,2,3],[0,8,1,3]]]],\n",
    "               [[[[8,8,8,4],[9,5,6,2]]]],\n",
    "               [[[[8,1,5,1],[3,1,5,7]]]]])\n",
    "print(zz)"
   ]
  },
  {
   "cell_type": "code",
   "execution_count": 29,
   "id": "d2d27a34",
   "metadata": {},
   "outputs": [
    {
     "name": "stdout",
     "output_type": "stream",
     "text": [
      "Data x merupakan dimensi : 2\n",
      "Data y merupakan dimensi : 1\n",
      "Data z merupakan dimensi : 3\n",
      "Data zz merupakan dimensi : 5\n"
     ]
    }
   ],
   "source": [
    "#ndim berfungsi untuk mengetahui data yang dimasukkan termasuk dimensi berapa\n",
    "print(f\"Data x merupakan dimensi : {x.ndim}\")\n",
    "print(f\"Data y merupakan dimensi : {y.ndim}\")\n",
    "print(f\"Data z merupakan dimensi : {z.ndim}\")\n",
    "print(f\"Data zz merupakan dimensi : {zz.ndim}\")\n",
    "\n",
    "#dimensi 1 untuk data berupa vektor\n",
    "#dimensi 2 untuk data berupa matrix\n",
    "#dimensi 3 untuk data lebih tinggi dari matrix, misal sebuah data memiliki baris, kolom, tinggi"
   ]
  },
  {
   "cell_type": "code",
   "execution_count": 30,
   "id": "82befa4b",
   "metadata": {},
   "outputs": [
    {
     "name": "stdout",
     "output_type": "stream",
     "text": [
      "Shape pada data x : (4, 4)\n",
      "Shape pada data y : (4,)\n",
      "Shape pada data z : (3, 2, 4)\n"
     ]
    }
   ],
   "source": [
    "#shape berfungsi untuk mengembalikan tupel dengan setiap index memiliki jumlah elemen yang sesuai\n",
    "#atau shape berfungsi untuk menghasilkan sebuah tuple yang berisikan panjang sebuah array pada tiap dimensi\n",
    "\n",
    "print(f\"Shape pada data x : {x.shape}\")\n",
    "#untuk dimensi 2, akan dibaca panjang array sebanyak 4 pada 4 dimensi array\n",
    "\n",
    "print(f\"Shape pada data y : {y.shape}\")\n",
    "#untuk dimensi 1, akan dibaca panjang array sebanyak 4 pada 1 dimensi array\n",
    "\n",
    "print(f\"Shape pada data z : {z.shape}\")\n",
    "#untuk dimensi 3\n",
    "#(3,2,4) akan dibaca sebuah array memiliki 3 dimensi dan setiap dimensi memiliki 2 elemen, di dalam 2 elemen memiliki panjang sebanyak 4"
   ]
  },
  {
   "cell_type": "raw",
   "id": "49f3e666",
   "metadata": {},
   "source": [
    "MEMANGGIL ANGGOTA, KOLOM DAN BARIS DENGAN NUMPY"
   ]
  },
  {
   "cell_type": "code",
   "execution_count": 31,
   "id": "e195cc7a",
   "metadata": {},
   "outputs": [
    {
     "name": "stdout",
     "output_type": "stream",
     "text": [
      "[[0 8 1 3]\n",
      " [8 8 4 8]\n",
      " [6 2 9 5]]\n"
     ]
    }
   ],
   "source": [
    "#dimasukkan sebuah data matrix\n",
    "a = np.array([[0,8,1,3],[8,8,4,8],[6,2,9,5]])\n",
    "print(a)"
   ]
  },
  {
   "cell_type": "code",
   "execution_count": 32,
   "id": "19723acb",
   "metadata": {},
   "outputs": [
    {
     "data": {
      "text/plain": [
       "9"
      ]
     },
     "execution_count": 32,
     "metadata": {},
     "output_type": "execute_result"
    }
   ],
   "source": [
    "#berfungsi untuk mencari baris index nomor n dan kolom index nomor n\n",
    "\n",
    "#pada code ini akan dicari sebuah nilai di dalam baris index nomor 2 dan kolom index nomor 2\n",
    "a[2,2]"
   ]
  },
  {
   "cell_type": "code",
   "execution_count": 33,
   "id": "8e69ab56",
   "metadata": {},
   "outputs": [
    {
     "name": "stdout",
     "output_type": "stream",
     "text": [
      "Baris yang dipanggil : [6 2 9 5]\n",
      "Kolom yang dipanggil : [3 8 5]\n"
     ]
    }
   ],
   "source": [
    "#penggunaan nomor di depan berfungsi untuk memanggil baris sesuai pada matrix dimana mxn, dengan m adalah baris dan n adalah kolom\n",
    "#berfungsi untuk memanggil semua nilai pada baris index nomor 2\n",
    "print(f\"Baris yang dipanggil : {a[2,:]}\")\n",
    "\n",
    "#penggunaan nomor di belakang berfungsi untuk memanggil kolom\n",
    "#berfungsi untuk memanggil semua nilai pada kolom index nomor 3\n",
    "print(f\"Kolom yang dipanggil : {a[:,3]}\")"
   ]
  },
  {
   "cell_type": "code",
   "execution_count": 34,
   "id": "961a7d08",
   "metadata": {},
   "outputs": [
    {
     "data": {
      "text/plain": [
       "array([0, 1])"
      ]
     },
     "execution_count": 34,
     "metadata": {},
     "output_type": "execute_result"
    }
   ],
   "source": [
    "a[0,0:3:2]\n",
    "\n",
    "#mencetak index baris nomor 0 index kolom nomor 0\n",
    "#dari index 0 sampai index sebelum 3 dengan step 2 kali"
   ]
  },
  {
   "cell_type": "code",
   "execution_count": 35,
   "id": "e0cc36a7",
   "metadata": {},
   "outputs": [
    {
     "data": {
      "text/plain": [
       "array([2, 9])"
      ]
     },
     "execution_count": 35,
     "metadata": {},
     "output_type": "execute_result"
    }
   ],
   "source": [
    "a[2,1:3]\n",
    "\n",
    "#akan mencetak index baris nomor 0 dan index kolom nomor 1\n",
    "#mencetak index sebelum 3"
   ]
  },
  {
   "cell_type": "code",
   "execution_count": 38,
   "id": "d8dffff4",
   "metadata": {},
   "outputs": [
    {
     "name": "stdout",
     "output_type": "stream",
     "text": [
      "[[100   8   1   3]\n",
      " [  8   8   4   8]\n",
      " [  6   2   9   5]]\n"
     ]
    }
   ],
   "source": [
    "#untuk mengganti nilai dalam baris dan kolom yang dipilih\n",
    "a[0,0]=100\n",
    "print(a)"
   ]
  },
  {
   "cell_type": "raw",
   "id": "92b77042",
   "metadata": {},
   "source": [
    "MATRIX PADA NUMPY"
   ]
  },
  {
   "cell_type": "code",
   "execution_count": 39,
   "id": "6c684b98",
   "metadata": {},
   "outputs": [
    {
     "data": {
      "text/plain": [
       "array([[1., 1., 1.],\n",
       "       [1., 1., 1.],\n",
       "       [1., 1., 1.]])"
      ]
     },
     "execution_count": 39,
     "metadata": {},
     "output_type": "execute_result"
    }
   ],
   "source": [
    "#berfungsi untuk membuat matrix dengan ordo mxn. m adalah baris, n adalah kolom\n",
    "np.ones((3,3))\n",
    "#karena numeric yang dimasukkan adalah 1, maka matix yang keluar akan bernilai 1 di setiap index nya"
   ]
  },
  {
   "cell_type": "code",
   "execution_count": 40,
   "id": "4ed27895",
   "metadata": {},
   "outputs": [
    {
     "data": {
      "text/plain": [
       "array([[0., 0.],\n",
       "       [0., 0.]])"
      ]
     },
     "execution_count": 40,
     "metadata": {},
     "output_type": "execute_result"
    }
   ],
   "source": [
    "#numeric yang digunakan adalah zero/0, sehingga matrix yang terbaca akan bernilai 1 di setiap indexnya\n",
    "np.zeros((2,2))"
   ]
  },
  {
   "cell_type": "code",
   "execution_count": 41,
   "id": "e27442fb",
   "metadata": {},
   "outputs": [
    {
     "data": {
      "text/plain": [
       "array([[1., 0., 0., 0., 0., 0.],\n",
       "       [0., 1., 0., 0., 0., 0.],\n",
       "       [0., 0., 1., 0., 0., 0.],\n",
       "       [0., 0., 0., 1., 0., 0.],\n",
       "       [0., 0., 0., 0., 1., 0.],\n",
       "       [0., 0., 0., 0., 0., 1.]])"
      ]
     },
     "execution_count": 41,
     "metadata": {},
     "output_type": "execute_result"
    }
   ],
   "source": [
    "#untuk membuat matrix identitas\n",
    "#hanya masukkan 1 bilangan, karena identitas sudah pasti berbentuk bujur sangkar\n",
    "np.identity(6)"
   ]
  },
  {
   "cell_type": "code",
   "execution_count": 42,
   "id": "88b89a5b",
   "metadata": {},
   "outputs": [
    {
     "data": {
      "text/plain": [
       "array([[[1., 1., 1., 1.],\n",
       "        [1., 1., 1., 1.],\n",
       "        [1., 1., 1., 1.]],\n",
       "\n",
       "       [[1., 1., 1., 1.],\n",
       "        [1., 1., 1., 1.],\n",
       "        [1., 1., 1., 1.]]])"
      ]
     },
     "execution_count": 42,
     "metadata": {},
     "output_type": "execute_result"
    }
   ],
   "source": [
    "#untuk membuat matrix dengan dimensi 3\n",
    "\n",
    "#pada code ini akan dibuat 2 dimensi, dimana setiap dimensi memiliki 3 elemen, dan disetiap elemen memiliki panjang sebanyak 4\n",
    "np.ones((2,3,4))"
   ]
  },
  {
   "cell_type": "code",
   "execution_count": 43,
   "id": "1a4325eb",
   "metadata": {},
   "outputs": [
    {
     "data": {
      "text/plain": [
       "array([[7, 7],\n",
       "       [7, 7],\n",
       "       [7, 7]])"
      ]
     },
     "execution_count": 43,
     "metadata": {},
     "output_type": "execute_result"
    }
   ],
   "source": [
    "#berfungsi untuk membuat matrix dengan ordo 3x2\n",
    "#dimana semua nilai matrix akan terisi dengan bilangan 7\n",
    "np.full((3,2),7)"
   ]
  },
  {
   "cell_type": "code",
   "execution_count": 44,
   "id": "d65693ef",
   "metadata": {},
   "outputs": [
    {
     "data": {
      "text/plain": [
       "array([[0.58758419, 0.90466579, 0.47997697],\n",
       "       [0.49607004, 0.73752393, 0.26691275],\n",
       "       [0.13271204, 0.96023479, 0.40357285],\n",
       "       [0.34277025, 0.45366099, 0.54185956]])"
      ]
     },
     "execution_count": 44,
     "metadata": {},
     "output_type": "execute_result"
    }
   ],
   "source": [
    "#akan mencetak angka random dengan ordo 4x3\n",
    "np.random.rand(4,3)"
   ]
  },
  {
   "cell_type": "code",
   "execution_count": 45,
   "id": "cd97be96",
   "metadata": {},
   "outputs": [
    {
     "data": {
      "text/plain": [
       "array([[5, 2, 4, 7],\n",
       "       [6, 7, 1, 7],\n",
       "       [2, 8, 6, 2],\n",
       "       [5, 6, 5, 2]])"
      ]
     },
     "execution_count": 45,
     "metadata": {},
     "output_type": "execute_result"
    }
   ],
   "source": [
    "#akan mencetak angka random pada matrix dengan range angka 1 sampai 8 (sesuai syntax pada pyhton -1) dengan ordo 4x4\n",
    "np.random.randint(1,9,size=(4,4))"
   ]
  },
  {
   "cell_type": "code",
   "execution_count": 47,
   "id": "b9fc1aae",
   "metadata": {},
   "outputs": [
    {
     "name": "stdout",
     "output_type": "stream",
     "text": [
      "[[1. 0. 0. 0. 0.]\n",
      " [0. 1. 0. 0. 0.]\n",
      " [0. 0. 1. 0. 0.]\n",
      " [0. 0. 0. 1. 0.]\n",
      " [0. 0. 0. 0. 1.]]\n"
     ]
    }
   ],
   "source": [
    "#membuat matrix 5x5\n",
    "\n",
    "#mencetak matrix indentitas dengan ordo 5x5\n",
    "k = np.identity(5)\n",
    "print(k)"
   ]
  },
  {
   "cell_type": "code",
   "execution_count": 48,
   "id": "871bd2e1",
   "metadata": {},
   "outputs": [
    {
     "name": "stdout",
     "output_type": "stream",
     "text": [
      "[[4. 0. 0. 0. 0.]\n",
      " [0. 4. 0. 0. 0.]\n",
      " [0. 0. 4. 0. 0.]\n",
      " [0. 0. 0. 4. 0.]\n",
      " [0. 0. 0. 0. 4.]]\n"
     ]
    }
   ],
   "source": [
    "#berfungsi untuk mengganti nilai identitas menjadi yang baru\n",
    "\n",
    "#pada code ini nilai 1 akan diganti menjadi 4\n",
    "j = 4*k\n",
    "print(j)"
   ]
  },
  {
   "cell_type": "code",
   "execution_count": 49,
   "id": "a4ca935c",
   "metadata": {},
   "outputs": [
    {
     "name": "stdout",
     "output_type": "stream",
     "text": [
      "[[6. 1. 1. 1. 1.]\n",
      " [1. 6. 1. 1. 1.]\n",
      " [1. 1. 6. 1. 1.]\n",
      " [1. 1. 1. 6. 1.]\n",
      " [1. 1. 1. 1. 6.]]\n"
     ]
    }
   ],
   "source": [
    "#matrix akan membentu ordo 5x5 dengan nilai semua bilangan matrix adalah 1\n",
    "h = np.ones((5,5))\n",
    "\n",
    "#selanjutnya memanggil matrix identitas dengan ordo yang sama agar tidak terjadi error\n",
    "#nilai matrix identitas akan menjadi 5\n",
    "g = np.identity(5)*5\n",
    "\n",
    "#penggabungan h+g\n",
    "#nilai matrix identitas akan menjadi 1+5, sementara bagian segitiga kanan dan kiri tetap 1\n",
    "f = h+g\n",
    "print(f)"
   ]
  },
  {
   "cell_type": "code",
   "execution_count": 50,
   "id": "1bed097a",
   "metadata": {},
   "outputs": [
    {
     "name": "stdout",
     "output_type": "stream",
     "text": [
      "[[10.  1.  1.  1.  1.]\n",
      " [ 1. 10.  1.  1.  1.]\n",
      " [ 1.  1. 10.  1.  1.]\n",
      " [ 1.  1.  1. 10.  1.]\n",
      " [ 1.  1.  1.  1. 10.]]\n"
     ]
    }
   ],
   "source": [
    "#mencetak penjumlahan matrix j dengan matrix f\n",
    "gg = j+f\n",
    "print(gg)"
   ]
  },
  {
   "cell_type": "raw",
   "id": "e79d9aed",
   "metadata": {},
   "source": [
    "COPY PADA NUMPY"
   ]
  },
  {
   "cell_type": "code",
   "execution_count": 51,
   "id": "82bfc2c4",
   "metadata": {},
   "outputs": [
    {
     "name": "stdout",
     "output_type": "stream",
     "text": [
      "[1 7 3 0 2]\n"
     ]
    }
   ],
   "source": [
    "#dimasukkan data pada array aa sebagai berikut\n",
    "aa = np.array([1,7,3,0,2])\n",
    "print(aa)"
   ]
  },
  {
   "cell_type": "code",
   "execution_count": 52,
   "id": "c36283e4",
   "metadata": {},
   "outputs": [
    {
     "name": "stdout",
     "output_type": "stream",
     "text": [
      "[1 7 3 0 2]\n"
     ]
    }
   ],
   "source": [
    "#proses copy\n",
    "bb = aa\n",
    "print(bb)"
   ]
  },
  {
   "cell_type": "code",
   "execution_count": 53,
   "id": "04cffa54",
   "metadata": {},
   "outputs": [
    {
     "name": "stdout",
     "output_type": "stream",
     "text": [
      "[ 1 99  3  0  2]\n"
     ]
    }
   ],
   "source": [
    "#mengganti nilai pada index nomor 1 dengan nilai baru\n",
    "bb[1] = 99\n",
    "print(bb)"
   ]
  },
  {
   "cell_type": "code",
   "execution_count": 54,
   "id": "2f808ab2",
   "metadata": {},
   "outputs": [
    {
     "name": "stdout",
     "output_type": "stream",
     "text": [
      "[ 1 99  3  0  2]\n"
     ]
    }
   ],
   "source": [
    "#karena bb = aa, maka ketika aa dicetak akan menghasilkan data terbaru dengan nilai bb yang sudah diubah\n",
    "print(aa)"
   ]
  },
  {
   "cell_type": "code",
   "execution_count": 55,
   "id": "32d2023e",
   "metadata": {},
   "outputs": [
    {
     "name": "stdout",
     "output_type": "stream",
     "text": [
      "[4 4 4 4 4]\n"
     ]
    }
   ],
   "source": [
    "#akan dimasukkan data array sebagai berikut\n",
    "cc = np.array([4,4,4,4,4])\n",
    "print(cc)"
   ]
  },
  {
   "cell_type": "code",
   "execution_count": 56,
   "id": "b8f5ef12",
   "metadata": {},
   "outputs": [
    {
     "name": "stdout",
     "output_type": "stream",
     "text": [
      "[4 4 4 4 4]\n"
     ]
    }
   ],
   "source": [
    "#proses copy\n",
    "dd = cc.copy()\n",
    "print(cc)"
   ]
  },
  {
   "cell_type": "code",
   "execution_count": 57,
   "id": "b34d7ffa",
   "metadata": {},
   "outputs": [
    {
     "name": "stdout",
     "output_type": "stream",
     "text": [
      "[104   4   4   4   4]\n"
     ]
    }
   ],
   "source": [
    "#mengganti nilai pada index nomor 1 dengan nilai terbaru\n",
    "dd[0]=104\n",
    "\n",
    "#sehingga pencetakan akan menghasilkan data dd terbaru\n",
    "print(dd)"
   ]
  },
  {
   "cell_type": "code",
   "execution_count": 58,
   "id": "1b865639",
   "metadata": {},
   "outputs": [
    {
     "name": "stdout",
     "output_type": "stream",
     "text": [
      "[4 4 4 4 4]\n"
     ]
    }
   ],
   "source": [
    "#berbeda dengan code copy sebelumnya, pada penggunaan copy saat ini tidak akan merubah data lama menjadi data terbaru jika ingin mencetak cc\n",
    "print(cc)"
   ]
  },
  {
   "cell_type": "raw",
   "id": "220f4d3f",
   "metadata": {},
   "source": [
    "OPERASI MATEMATIKA PADA NUMPY"
   ]
  },
  {
   "cell_type": "code",
   "execution_count": 59,
   "id": "3617ea88",
   "metadata": {},
   "outputs": [
    {
     "name": "stdout",
     "output_type": "stream",
     "text": [
      "[9 9 9 9 9]\n",
      "[-1 -1 -1 -1 -1]\n",
      "[20 20 20 20 20]\n",
      "[0.8 0.8 0.8 0.8 0.8]\n",
      "[1024 1024 1024 1024 1024]\n"
     ]
    }
   ],
   "source": [
    "#dimasukkan data pada array sebagai berikut\n",
    "cc = np.array([4,4,4,4,4])\n",
    "\n",
    "#operasi pertambahan pada numpy, setiap index akan ditambahkan dengan 2\n",
    "print(cc+5)\n",
    "\n",
    "#operasi pengurangan pada numpy, setiap index akan dikurangi dengan 2\n",
    "print(cc-5)\n",
    "\n",
    "#operasi perkalian pada numpy, setiap index akan dikali dengan 5\n",
    "print(cc*5)\n",
    "\n",
    "#operasi pembagian pada numpy, setiap index akan dibagi dengan 5\n",
    "print(cc/5)\n",
    "\n",
    "#operasi perkalian pangkat pada numpy, setiap index akan dipangkatkan 5\n",
    "print(cc**5)"
   ]
  },
  {
   "cell_type": "code",
   "execution_count": 60,
   "id": "158b2279",
   "metadata": {},
   "outputs": [
    {
     "name": "stdout",
     "output_type": "stream",
     "text": [
      "[2 1 2 1 2]\n"
     ]
    }
   ],
   "source": [
    "#dimasukkan data array sebagai berikut\n",
    "ee=np.array([2,1,2,1,2])\n",
    "print(ee)"
   ]
  },
  {
   "cell_type": "code",
   "execution_count": 61,
   "id": "180a07b6",
   "metadata": {},
   "outputs": [
    {
     "name": "stdout",
     "output_type": "stream",
     "text": [
      "[6 5 6 5 6]\n",
      "[2 3 2 3 2]\n",
      "[8 4 8 4 8]\n",
      "[2. 4. 2. 4. 2.]\n",
      "[16  4 16  4 16]\n"
     ]
    }
   ],
   "source": [
    "#operasi pertambahan pada numpy, setiap baris dan kolom dengan nomor index yang sama akan saling dioperasikan\n",
    "print(cc+ee)\n",
    "\n",
    "#operasi pengurangan pada numpy, setiap baris dan kolom dengan nomor index yang sama akan saling dioperasikan\n",
    "print(cc-ee)\n",
    "\n",
    "#operasi perkalian pada numpy, setiap baris dan kolom dengan nomor index yang sama akan saling dioperasikan\n",
    "print(cc*ee)\n",
    "\n",
    "#operasi pembagian pada numpy, setiap baris dan kolom dengan nomor index yang sama akan saling dioperasikan\n",
    "print(cc/ee)\n",
    "\n",
    "#operasi pangkat pada numpy, setiap baris dan kolom dengan nomor index yang sama akan saling dioperasikan\n",
    "print(cc**ee)"
   ]
  },
  {
   "cell_type": "code",
   "execution_count": 62,
   "id": "37c35356",
   "metadata": {},
   "outputs": [
    {
     "name": "stdout",
     "output_type": "stream",
     "text": [
      "Hasil nilai sin pada matrix ee            : [0.90929743 0.84147098 0.90929743 0.84147098 0.90929743]\n",
      "Hasil nilai cos pada matrix ee            : [-0.41614684  0.54030231 -0.41614684  0.54030231 -0.41614684]\n",
      "Hasil nilai tan pada matrix ee            : [-2.18503986  1.55740772 -2.18503986  1.55740772 -2.18503986]\n",
      "Hasil nilai sin hiperbolik pada matrix ee : [3.62686041 1.17520119 3.62686041 1.17520119 3.62686041]\n",
      "Hasil nilai cos hiperbolik pada matrix ee : [3.76219569 1.54308063 3.76219569 1.54308063 3.76219569]\n",
      "Hasil nilai tan hiperbolik pada matrix ee : [0.96402758 0.76159416 0.96402758 0.76159416 0.96402758]\n",
      "Hasil nilai akar kuadrat pada matrix ee   : [1.41421356 1.         1.41421356 1.         1.41421356]\n"
     ]
    }
   ],
   "source": [
    "#penghitungan sin pada setiap nilai index\n",
    "print(f\"Hasil nilai sin pada matrix ee            : {np.sin(ee)}\")\n",
    "\n",
    "#penghitungan cos pada setiap nilai index\n",
    "print(f\"Hasil nilai cos pada matrix ee            : {np.cos(ee)}\")\n",
    "\n",
    "#penghitungan tan pada setiap nilai index\n",
    "print(f\"Hasil nilai tan pada matrix ee            : {np.tan(ee)}\")\n",
    "\n",
    "#penghitungan sin hiperbolik pada setiap nilai index\n",
    "print(f\"Hasil nilai sin hiperbolik pada matrix ee : {np.sinh(ee)}\")\n",
    "\n",
    "#penghitungan cos hiperbolik pada setiap nilai index\n",
    "print(f\"Hasil nilai cos hiperbolik pada matrix ee : {np.cosh(ee)}\")\n",
    "\n",
    "#penghitungan tangen hiperbolik pada setiap nilai index\n",
    "print(f\"Hasil nilai tan hiperbolik pada matrix ee : {np.tanh(ee)}\")\n",
    "\n",
    "#penghitungan akar kuadrat pada setiap nilai index\n",
    "print(f\"Hasil nilai akar kuadrat pada matrix ee   : {np.sqrt(ee)}\")"
   ]
  },
  {
   "cell_type": "raw",
   "id": "7297cb5a",
   "metadata": {},
   "source": [
    "PERKALIAN MATRIX PADA NUMPY"
   ]
  },
  {
   "cell_type": "code",
   "execution_count": 63,
   "id": "ff411f55",
   "metadata": {},
   "outputs": [
    {
     "name": "stdout",
     "output_type": "stream",
     "text": [
      "[[1 2 3 4]\n",
      " [4 1 3 2]]\n"
     ]
    }
   ],
   "source": [
    "#dimasukkan data pada array p sebagai berikut\n",
    "p = np.array([[1,2,3,4],[4,1,3,2]])\n",
    "print(p)"
   ]
  },
  {
   "cell_type": "code",
   "execution_count": 64,
   "id": "073616af",
   "metadata": {},
   "outputs": [
    {
     "name": "stdout",
     "output_type": "stream",
     "text": [
      "[[ 3  6  4  2]\n",
      " [ 5  6  4 10]]\n"
     ]
    }
   ],
   "source": [
    "#dimasukkan data pada array q sebagai berikut\n",
    "q = np.array([[3,6,4,2],[5,6,4,10]])\n",
    "print(q)"
   ]
  },
  {
   "cell_type": "code",
   "execution_count": 65,
   "id": "c46e59a0",
   "metadata": {},
   "outputs": [
    {
     "name": "stdout",
     "output_type": "stream",
     "text": [
      "[[ 3 12 12  8]\n",
      " [20  6 12 20]]\n"
     ]
    }
   ],
   "source": [
    "#akan dihitung perkalian terhadapt matrix\n",
    "#perkalian akan terhitung seperti perkalian biasa, setiap baris dan kolom yang sama akan beroperasi\n",
    "r = p*q\n",
    "print(r)"
   ]
  },
  {
   "cell_type": "code",
   "execution_count": 66,
   "id": "c70861b3",
   "metadata": {},
   "outputs": [
    {
     "ename": "ValueError",
     "evalue": "matmul: Input operand 1 has a mismatch in its core dimension 0, with gufunc signature (n?,k),(k,m?)->(n?,m?) (size 2 is different from 4)",
     "output_type": "error",
     "traceback": [
      "\u001b[1;31m---------------------------------------------------------------------------\u001b[0m",
      "\u001b[1;31mValueError\u001b[0m                                Traceback (most recent call last)",
      "\u001b[1;32m~\\AppData\\Local\\Temp\\ipykernel_16932\\3231701573.py\u001b[0m in \u001b[0;36m<module>\u001b[1;34m\u001b[0m\n\u001b[0;32m      1\u001b[0m \u001b[1;31m#berbeda dengan menggunakan matmul\u001b[0m\u001b[1;33m\u001b[0m\u001b[1;33m\u001b[0m\u001b[0m\n\u001b[0;32m      2\u001b[0m \u001b[1;31m#matmul berfungsi untuk menghitung nilai perkalian matrix sesuai definisi pada perkalian matrix\u001b[0m\u001b[1;33m\u001b[0m\u001b[1;33m\u001b[0m\u001b[0m\n\u001b[1;32m----> 3\u001b[1;33m \u001b[0ms\u001b[0m \u001b[1;33m=\u001b[0m \u001b[0mnp\u001b[0m\u001b[1;33m.\u001b[0m\u001b[0mmatmul\u001b[0m\u001b[1;33m(\u001b[0m\u001b[0mp\u001b[0m\u001b[1;33m,\u001b[0m\u001b[0mq\u001b[0m\u001b[1;33m)\u001b[0m\u001b[1;33m\u001b[0m\u001b[1;33m\u001b[0m\u001b[0m\n\u001b[0m\u001b[0;32m      4\u001b[0m \u001b[0mprint\u001b[0m\u001b[1;33m(\u001b[0m\u001b[0ms\u001b[0m\u001b[1;33m)\u001b[0m\u001b[1;33m\u001b[0m\u001b[1;33m\u001b[0m\u001b[0m\n\u001b[0;32m      5\u001b[0m \u001b[1;33m\u001b[0m\u001b[0m\n",
      "\u001b[1;31mValueError\u001b[0m: matmul: Input operand 1 has a mismatch in its core dimension 0, with gufunc signature (n?,k),(k,m?)->(n?,m?) (size 2 is different from 4)"
     ]
    }
   ],
   "source": [
    "#berbeda dengan menggunakan matmul\n",
    "#matmul berfungsi untuk menghitung nilai perkalian matrix sesuai definisi pada perkalian matrix\n",
    "s = np.matmul(p,q)\n",
    "print(s)\n",
    "\n",
    "#pada perkalian ini akan menghasilkan error, karena matrix 4x2 dikali dengan 4x2 tidak dapat dihitung"
   ]
  },
  {
   "cell_type": "code",
   "execution_count": 67,
   "id": "1d23ed2f",
   "metadata": {},
   "outputs": [
    {
     "name": "stdout",
     "output_type": "stream",
     "text": [
      "[[5 4]\n",
      " [3 3]\n",
      " [9 2]\n",
      " [7 6]]\n"
     ]
    }
   ],
   "source": [
    "#dimasukkan data array t sebagai berikut\n",
    "t = np.array([[5,4],[3,3],[9,2],[7,6]])\n",
    "print(t)\n",
    "\n",
    "#matrix dengan ordo 2x2"
   ]
  },
  {
   "cell_type": "code",
   "execution_count": 68,
   "id": "b7292411",
   "metadata": {},
   "outputs": [
    {
     "name": "stdout",
     "output_type": "stream",
     "text": [
      "[[66 40]\n",
      " [64 37]]\n"
     ]
    }
   ],
   "source": [
    "#perkalian matrix sesuai definisi karena menggunakan matmul\n",
    "u = np.matmul(p,t)\n",
    "print(u)\n",
    "\n",
    "#akan memiliki hasil karena matrix ordo 2x4 dapai dikali dengan matrix ordo 4x2"
   ]
  },
  {
   "cell_type": "code",
   "execution_count": 69,
   "id": "97db4f1d",
   "metadata": {},
   "outputs": [
    {
     "ename": "ValueError",
     "evalue": "operands could not be broadcast together with shapes (2,4) (4,2) ",
     "output_type": "error",
     "traceback": [
      "\u001b[1;31m---------------------------------------------------------------------------\u001b[0m",
      "\u001b[1;31mValueError\u001b[0m                                Traceback (most recent call last)",
      "\u001b[1;32m~\\AppData\\Local\\Temp\\ipykernel_16932\\762755618.py\u001b[0m in \u001b[0;36m<module>\u001b[1;34m\u001b[0m\n\u001b[1;32m----> 1\u001b[1;33m \u001b[0mv\u001b[0m \u001b[1;33m=\u001b[0m \u001b[0mp\u001b[0m\u001b[1;33m*\u001b[0m\u001b[0mt\u001b[0m\u001b[1;33m\u001b[0m\u001b[1;33m\u001b[0m\u001b[0m\n\u001b[0m\u001b[0;32m      2\u001b[0m \u001b[1;33m\u001b[0m\u001b[0m\n\u001b[0;32m      3\u001b[0m \u001b[1;31m#jika tidak menggunakan matmul akan error karena terdapat suatu nomor index matrix yang tidak memiliki pasangan pada index matrix kalinya\u001b[0m\u001b[1;33m\u001b[0m\u001b[1;33m\u001b[0m\u001b[0m\n",
      "\u001b[1;31mValueError\u001b[0m: operands could not be broadcast together with shapes (2,4) (4,2) "
     ]
    }
   ],
   "source": [
    "v = p*t\n",
    "\n",
    "#jika tidak menggunakan matmul akan error karena terdapat suatu nomor index matrix yang tidak memiliki pasangan pada index matrix kalinya"
   ]
  },
  {
   "cell_type": "raw",
   "id": "deb565b0",
   "metadata": {},
   "source": [
    "MIX, MAX DAN SUM PADA NUMPY"
   ]
  },
  {
   "cell_type": "code",
   "execution_count": 70,
   "id": "7e7627c0",
   "metadata": {},
   "outputs": [
    {
     "name": "stdout",
     "output_type": "stream",
     "text": [
      "[[ 1  2  3  4]\n",
      " [ 5  6  7  8]\n",
      " [ 9 10 11 12]]\n"
     ]
    }
   ],
   "source": [
    "#diberikan data array pada p sebagai berikut\n",
    "pp = np.array([[1,2,3,4],\n",
    "              [5,6,7,8],\n",
    "              [9,10,11,12]])\n",
    "print(pp)"
   ]
  },
  {
   "cell_type": "code",
   "execution_count": 71,
   "id": "8386ffd8",
   "metadata": {},
   "outputs": [
    {
     "name": "stdout",
     "output_type": "stream",
     "text": [
      "1\n"
     ]
    }
   ],
   "source": [
    "#berfungsi untuk mencari nilai minimal/nilai terkecil dalam matrix pp\n",
    "qq = np.min(pp)\n",
    "print(qq)"
   ]
  },
  {
   "cell_type": "code",
   "execution_count": 72,
   "id": "31b53957",
   "metadata": {},
   "outputs": [
    {
     "name": "stdout",
     "output_type": "stream",
     "text": [
      "[1 2 3 4]\n"
     ]
    }
   ],
   "source": [
    "#axis pada sebuah array menjelaskan urutan pengindeksan dalam array\n",
    "#akan mencetak index dalam baris pada matrix yang terdapat angka terkecilnya\n",
    "rr = np.min(pp,axis=0)\n",
    "print(rr)"
   ]
  },
  {
   "cell_type": "code",
   "execution_count": 73,
   "id": "543213f7",
   "metadata": {},
   "outputs": [
    {
     "name": "stdout",
     "output_type": "stream",
     "text": [
      "[1 5 9]\n"
     ]
    }
   ],
   "source": [
    "#akan mencetak index dalam kolom pada matrix yang terdapat angka terkecilnya\n",
    "ss = np.min(pp,axis=1)\n",
    "print(ss)"
   ]
  },
  {
   "cell_type": "code",
   "execution_count": 74,
   "id": "138d0faa",
   "metadata": {},
   "outputs": [
    {
     "name": "stdout",
     "output_type": "stream",
     "text": [
      "12\n"
     ]
    }
   ],
   "source": [
    "#berfungsi untuk mencari nilai maksimum/nilai terbesar dalam matrix pp\n",
    "tt = np.max(pp)\n",
    "print(tt)"
   ]
  },
  {
   "cell_type": "code",
   "execution_count": 75,
   "id": "fe6f7ab6",
   "metadata": {},
   "outputs": [
    {
     "name": "stdout",
     "output_type": "stream",
     "text": [
      "[ 9 10 11 12]\n"
     ]
    }
   ],
   "source": [
    "#akan mencetak index dalam baris pada matrix yang terdapat angka terbesarnya\n",
    "uu = np.max(pp,axis=0)\n",
    "print(uu)"
   ]
  },
  {
   "cell_type": "code",
   "execution_count": 76,
   "id": "ce2ea74d",
   "metadata": {},
   "outputs": [
    {
     "name": "stdout",
     "output_type": "stream",
     "text": [
      "[ 4  8 12]\n"
     ]
    }
   ],
   "source": [
    "#akan mencetak index dalam kolom pada matrix yang terdapat angka terbesarnya\n",
    "vv = np.max(pp,axis=1)\n",
    "print(vv)"
   ]
  },
  {
   "cell_type": "code",
   "execution_count": 77,
   "id": "68466b18",
   "metadata": {},
   "outputs": [
    {
     "name": "stdout",
     "output_type": "stream",
     "text": [
      "78\n"
     ]
    }
   ],
   "source": [
    "ww = np.sum(pp)\n",
    "print(ww)\n",
    "\n",
    "#sum berfungsi untuk menjumlahkan semua nilai yang terdapat pada data array pp"
   ]
  },
  {
   "cell_type": "code",
   "execution_count": 78,
   "id": "e284b498",
   "metadata": {},
   "outputs": [
    {
     "name": "stdout",
     "output_type": "stream",
     "text": [
      "[15 18 21 24]\n"
     ]
    }
   ],
   "source": [
    "xx = np.sum(pp,axis=0)\n",
    "print(xx)\n",
    "\n",
    "#untuk mencetak jumlah pada kolom-kolom matrix\n",
    "#misal pada index kolom nomor 0 adalah 1 5 9 hasilnya adalah 15\n",
    "#kemudian pada index kolom nomor 1 adalah 2 6 10 hasilnya adalah 18, dst"
   ]
  },
  {
   "cell_type": "code",
   "execution_count": 79,
   "id": "2bea7231",
   "metadata": {},
   "outputs": [
    {
     "name": "stdout",
     "output_type": "stream",
     "text": [
      "[10 26 42]\n"
     ]
    }
   ],
   "source": [
    "yy = np.sum(pp,axis=1)\n",
    "print(yy)\n",
    "\n",
    "#untuk mencetak jumlah pada baris-baris matrix\n",
    "#misal pada index baris nomor 0 adalah 1 2 3 4 hasilnya adalah 10\n",
    "#kemudian pada index baris nomor 1 adalah 5 6 7 8 hasilnya adalah 26, dst"
   ]
  }
 ],
 "metadata": {
  "kernelspec": {
   "display_name": "Python 3 (ipykernel)",
   "language": "python",
   "name": "python3"
  },
  "language_info": {
   "codemirror_mode": {
    "name": "ipython",
    "version": 3
   },
   "file_extension": ".py",
   "mimetype": "text/x-python",
   "name": "python",
   "nbconvert_exporter": "python",
   "pygments_lexer": "ipython3",
   "version": "3.9.13"
  }
 },
 "nbformat": 4,
 "nbformat_minor": 5
}
