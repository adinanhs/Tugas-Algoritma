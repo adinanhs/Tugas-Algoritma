{
  "nbformat": 4,
  "nbformat_minor": 0,
  "metadata": {
    "colab": {
      "provenance": []
    },
    "kernelspec": {
      "name": "python3",
      "display_name": "Python 3"
    },
    "language_info": {
      "name": "python"
    }
  },
  "cells": [
    {
      "cell_type": "code",
      "execution_count": null,
      "metadata": {
        "colab": {
          "base_uri": "https://localhost:8080/"
        },
        "id": "jbEPQMmXQxRB",
        "outputId": "32b91539-ae23-4c85-ab8b-f275dd597929"
      },
      "outputs": [
        {
          "output_type": "stream",
          "name": "stdout",
          "text": [
            "I don't like you\n"
          ]
        }
      ],
      "source": [
        "#Menggunakan tanda petik yang sama agar tidak error\n",
        "print(\"I don't like you\")"
      ]
    },
    {
      "cell_type": "code",
      "source": [
        "#Penggunaan \\n sama seperti di c++ yaitu untuk enter ke bawah/baris baru\n",
        "print(\"I don't \\n love you\")"
      ],
      "metadata": {
        "colab": {
          "base_uri": "https://localhost:8080/"
        },
        "id": "K9x1IihyQ0eu",
        "outputId": "60355a35-9ada-4398-f9d0-1c6ec6a0678f"
      },
      "execution_count": null,
      "outputs": [
        {
          "output_type": "stream",
          "name": "stdout",
          "text": [
            "I don't \n",
            " love you\n"
          ]
        }
      ]
    },
    {
      "cell_type": "code",
      "source": [
        "print('Minum susu rasa semangka \\n Dia ada yang punya aku mah apa')"
      ],
      "metadata": {
        "colab": {
          "base_uri": "https://localhost:8080/"
        },
        "id": "b2o5GznnQ2p4",
        "outputId": "2e36892b-fa3e-4cc0-ddf9-0a686cb909ed"
      },
      "execution_count": null,
      "outputs": [
        {
          "output_type": "stream",
          "name": "stdout",
          "text": [
            "Minum susu rasa semangka \n",
            " Dia ada yang punya aku mah apa\n"
          ]
        }
      ]
    },
    {
      "cell_type": "code",
      "source": [
        "#Terjadi error karena menggunakan dua tanda petik yang berbeda dimana petik pertama memakai ' dan petik kedua memakai \"\n",
        "print('Jungkook suka makan sate padang\")"
      ],
      "metadata": {
        "colab": {
          "base_uri": "https://localhost:8080/",
          "height": 130
        },
        "id": "0u0VaooRRFSv",
        "outputId": "41c73136-e4d0-4235-9924-abd8388ccd53"
      },
      "execution_count": null,
      "outputs": [
        {
          "output_type": "error",
          "ename": "SyntaxError",
          "evalue": "ignored",
          "traceback": [
            "\u001b[0;36m  File \u001b[0;32m\"<ipython-input-4-746ceb4b5c34>\"\u001b[0;36m, line \u001b[0;32m2\u001b[0m\n\u001b[0;31m    print('Jungkook suka makan sate padang\")\u001b[0m\n\u001b[0m                                            ^\u001b[0m\n\u001b[0;31mSyntaxError\u001b[0m\u001b[0;31m:\u001b[0m EOL while scanning string literal\n"
          ]
        }
      ]
    },
    {
      "cell_type": "code",
      "source": [
        "#Sifat nya serupa dengan string, apabila ingin mencari outputnya maka tinggal tulis \" NIM \" (tanpa tanda petik)\n",
        "#Maka output ya keluar merupakan ekuivalen dari variabel tersebut\n",
        "NIM = 2208541033"
      ],
      "metadata": {
        "id": "7xRcl_EFRIoW"
      },
      "execution_count": null,
      "outputs": []
    },
    {
      "cell_type": "code",
      "source": [
        "NIM"
      ],
      "metadata": {
        "colab": {
          "base_uri": "https://localhost:8080/"
        },
        "id": "sU3jJPepRyLc",
        "outputId": "a0011a2b-bae0-4fa9-a583-f20e8d39a84f"
      },
      "execution_count": null,
      "outputs": [
        {
          "output_type": "execute_result",
          "data": {
            "text/plain": [
              "2208541033"
            ]
          },
          "metadata": {},
          "execution_count": 10
        }
      ]
    },
    {
      "cell_type": "code",
      "source": [
        "#jangan menggunakan variabel yang sama, karena nanti yang di run itu variabel terakhir, contoh a = 2 (penghapus), a = 6 (buku),\n",
        "#maka yang akan dibaca adalah a = 6 (buku)\n",
        "Xi = 50\n",
        "Fi = 5\n",
        "print(Xi)\n",
        "print(Fi)\n",
        "print(Xi*Fi)\n",
        "#jika ingin print variabel di atas, maka tidak perlu menggunakan tanda petik karena variabel sudah terbaca oleh komputer\n",
        "# * (bintang) artinya perkalian\n",
        "#apabila lebih dari satu kata, maka variabel menggunakan _ (underscore)"
      ],
      "metadata": {
        "colab": {
          "base_uri": "https://localhost:8080/"
        },
        "id": "JD2nfAUUR7iW",
        "outputId": "fd19c44b-39df-448f-c384-1a40731c6630"
      },
      "execution_count": null,
      "outputs": [
        {
          "output_type": "stream",
          "name": "stdout",
          "text": [
            "50\n",
            "5\n",
            "250\n"
          ]
        }
      ]
    },
    {
      "cell_type": "code",
      "source": [
        "nama = input(\"nama : \")\n",
        "username = input(\"username : \")\n",
        "password = input(\"password : \")\n",
        "print(\"Hi,\"+\" \"+ nama + \"!\")\n",
        "#menggunakan input untuk menghasilkan code paramenter\n",
        "#tanda seru ( ! ) menggunakan tanda petik agar terbaca oleh komputer, karena tanda seru tersebut tidak terdapat dalam variabel"
      ],
      "metadata": {
        "id": "MRKcpa4DSd_N",
        "colab": {
          "base_uri": "https://localhost:8080/"
        },
        "outputId": "de8054b6-77ee-4cba-9583-11f5f2abb14c"
      },
      "execution_count": null,
      "outputs": [
        {
          "output_type": "stream",
          "name": "stdout",
          "text": [
            "nama : Adina\n",
            "username : adinanhs\n",
            "password : ******\n",
            "Hi, Adina!\n"
          ]
        }
      ]
    },
    {
      "cell_type": "code",
      "source": [
        "mahasiswi = input(\"Berapakah jumlah mahasiswi wanita di prodi matematika? \")\n",
        "mahasiswa = input(\"Berapakah jumlah mahasiswa pria di prodi matematika? \")\n",
        "Total = int(mahasiswi) + int(mahasiswa)\n",
        "print(\"Total mahasiswa/i prodi matematika adalah \" + str(Total) + \" \" + \"orang\")\n",
        "#menggunakan type data integer untuk mendapatkan hasil pertambahan dari variabel input\n",
        "#lalu menggunakan string untuk menghasilkan total dari integer yang di input"
      ],
      "metadata": {
        "id": "6jzFoqw3T6el",
        "colab": {
          "base_uri": "https://localhost:8080/"
        },
        "outputId": "319db01c-df80-4d88-963a-099b70dd002f"
      },
      "execution_count": null,
      "outputs": [
        {
          "output_type": "stream",
          "name": "stdout",
          "text": [
            "Berapakah jumlah mahasiswi wanita di prodi matematika? 66\n",
            "Berapakah jumlah mahasiswa pria di prodi matematika? 22\n",
            "Total mahasiswa/i prodi matematika adalah 88 orang\n"
          ]
        }
      ]
    },
    {
      "cell_type": "code",
      "source": [
        "mahasiswi = int(input(\"Berapakah jumlah mahasiswi wanita di prodi matematika? \"))\n",
        "mahasiswa = int(input(\"Berapakah jumlah mahasiswa pria di prodi matematika? \"))\n",
        "print(\"Total mahasiswa/i prodi matematika adalah \" + str(mahasiswi + mahasiswa) + \" \" + \"orang\")\n",
        "#apabila tidak menggunakan variabel total,\n",
        "#maka type data string digunakan untuk memasukkan hasil jumlah dari integer yang ada agar dapat terbaca pada print "
      ],
      "metadata": {
        "id": "ICtfp-WOUBde",
        "colab": {
          "base_uri": "https://localhost:8080/"
        },
        "outputId": "a5289bfc-ff8b-43cb-ddaf-a5e0ef716aea"
      },
      "execution_count": null,
      "outputs": [
        {
          "output_type": "stream",
          "name": "stdout",
          "text": [
            "Berapakah jumlah mahasiswi wanita di prodi matematika? 66\n",
            "Berapakah jumlah mahasiswa pria di prodi matematika? 5\n",
            "Total mahasiswa/i prodi matematika adalah 71 orang\n"
          ]
        }
      ]
    },
    {
      "cell_type": "code",
      "source": [
        "\n",
        "#type data boolean (true or false)\n",
        "a = 7\n",
        "b = 11\n",
        "print(a > 5 and b < 12)\n",
        "print ( b > 12)"
      ],
      "metadata": {
        "id": "gx3Q75JTUIJL",
        "colab": {
          "base_uri": "https://localhost:8080/"
        },
        "outputId": "40f56034-62a9-4f36-d2a8-5d414b262733"
      },
      "execution_count": null,
      "outputs": [
        {
          "output_type": "stream",
          "name": "stdout",
          "text": [
            "True\n",
            "False\n"
          ]
        }
      ]
    }
  ]
}