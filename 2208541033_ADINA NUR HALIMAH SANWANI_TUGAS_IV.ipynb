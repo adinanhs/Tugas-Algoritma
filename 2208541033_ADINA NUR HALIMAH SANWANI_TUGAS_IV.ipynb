{
 "cells": [
  {
   "cell_type": "markdown",
   "id": "188a558c",
   "metadata": {},
   "source": [
    "# 5.11 While Loop"
   ]
  },
  {
   "cell_type": "code",
   "execution_count": 1,
   "id": "d49e21d2",
   "metadata": {},
   "outputs": [
    {
     "name": "stdout",
     "output_type": "stream",
     "text": [
      "Angka 0 masih di bawah 10\n",
      "Angka 1 masih di bawah 10\n",
      "Angka 2 masih di bawah 10\n",
      "Angka 3 masih di bawah 10\n",
      "Angka 4 masih di bawah 10\n",
      "Angka 5 masih di bawah 10\n",
      "Angka 6 masih di bawah 10\n",
      "Angka 7 masih di bawah 10\n",
      "Angka 8 masih di bawah 10\n",
      "Angka 9 masih di bawah 10\n",
      "Cukup\n"
     ]
    }
   ],
   "source": [
    "a = 0\n",
    "while a < 10:\n",
    "    print (\"Angka \" + str(a) + \" masih di bawah 10\")\n",
    "    #a bernilai 0, kemudian dieksekusi menjadi a = a + 1, sehingga a = 1, karena True 1 < 10, maka program akan terus melakukan pengulangan\n",
    "    a+=1\n",
    "    \n",
    "#ketika while bernilai False, maka akan mencetak print yang tidak di dalam program while\n",
    "print(\"Cukup\")\n",
    "\n",
    "#pengulangan akan terus dieksekusi apabila variabel boolean atau logical statement bernilai True\n",
    "#pengulangan akan berhenti dieksekusi apabila variabel boolean atau logical statement bernilai false"
   ]
  },
  {
   "cell_type": "code",
   "execution_count": 2,
   "id": "ff39559f",
   "metadata": {},
   "outputs": [
    {
     "name": "stdout",
     "output_type": "stream",
     "text": [
      "\n",
      "Selamat datang!\n",
      "Anda berada di antrian nomor 1\n",
      "\n",
      "Selamat datang!\n",
      "Anda berada di antrian nomor 2\n",
      "\n",
      "Selamat datang!\n",
      "Anda berada di antrian nomor 3\n",
      "\n",
      "Selamat datang!\n",
      "Anda berada di antrian nomor 4\n",
      "\n",
      "Selamat datang!\n",
      "Anda berada di antrian nomor 5\n"
     ]
    }
   ],
   "source": [
    "antrian = 0\n",
    "\n",
    "while antrian < 5:\n",
    "    antrian+=1\n",
    "    print (\"\\nSelamat datang!\")\n",
    "    print(f\"Anda berada di antrian nomor {antrian}\")\n",
    "    \n",
    "#penggunaan format string untuk mencetak nomor antrian yang telah dieksekusi dalam while"
   ]
  },
  {
   "cell_type": "code",
   "execution_count": 3,
   "id": "268858e5",
   "metadata": {},
   "outputs": [
    {
     "name": "stdout",
     "output_type": "stream",
     "text": [
      "Masukkan nama kekasih anda (ketik putus <tanpa kapital> untuk keluar): Jungkook\n",
      "You like Jungkook\n",
      "Masukkan nama kekasih anda (ketik putus <tanpa kapital> untuk keluar) : Putus\n",
      "You like Putus\n",
      "Masukkan nama kekasih anda (ketik putus <tanpa kapital> untuk keluar) : putus\n",
      "Semangat!\n"
     ]
    }
   ],
   "source": [
    "crush = input(\"Masukkan nama kekasih anda (ketik putus <tanpa kapital> untuk keluar): \")\n",
    "\n",
    "#penggunaan while not untuk memberhentikan pengulangan\n",
    "#akan tereksekusi bila menggunakan kata kunci yang telah diberikan dengan tepat\n",
    "while not crush == \"putus\":\n",
    "    print(f\"You like {crush}\")\n",
    "    crush = input(\"Masukkan nama kekasih anda (ketik putus <tanpa kapital> untuk keluar) : \")\n",
    "    \n",
    "#jika menggunakan while not maka akan mencetak print yang tidak berada di loop while\n",
    "print(\"Semangat!\")"
   ]
  },
  {
   "cell_type": "markdown",
   "id": "fb35ed1b",
   "metadata": {},
   "source": [
    "# 5.12 List "
   ]
  },
  {
   "cell_type": "code",
   "execution_count": 4,
   "id": "b1f0297b",
   "metadata": {},
   "outputs": [
    {
     "name": "stdout",
     "output_type": "stream",
     "text": [
      "['00 Kelas A', '001 Jaya', '002 Ariasih', '003 Naftalia', '004 Rika', '005 Kleo']\n"
     ]
    }
   ],
   "source": [
    "#urutan dimulai dari urutan ke-0\n",
    "\n",
    "NIM = ['00 Kelas A','001 Jaya','002 Ariasih','003 Naftalia','004 Rika','005 Kleo']\n",
    "print(NIM)"
   ]
  },
  {
   "cell_type": "code",
   "execution_count": 5,
   "id": "d66018fc",
   "metadata": {},
   "outputs": [
    {
     "name": "stdout",
     "output_type": "stream",
     "text": [
      "Hasil output pertama : 001 Jaya\n",
      "Hasil output kedua : 004 Rika\n"
     ]
    }
   ],
   "source": [
    "#untuk angka bernilai positif maka akan mencetak dari list data paling depan\n",
    "#untuk angka bernilai negatif maka akan mencetak dari list data paling belakang\n",
    "\n",
    "#mencetak urutan pada urutan ke-1 dari list depan\n",
    "print(\"Hasil output pertama : \" + NIM[1])\n",
    "\n",
    "#mencetak urutan pada urutan ke-2 dari belakang\n",
    "print(\"Hasil output kedua : \" + NIM[-2])"
   ]
  },
  {
   "cell_type": "code",
   "execution_count": 6,
   "id": "4b166d91",
   "metadata": {},
   "outputs": [
    {
     "name": "stdout",
     "output_type": "stream",
     "text": [
      "['033 Adina', '001 Jaya', '002 Ariasih', '003 Naftalia', '004 Rika', '005 Kleo']\n"
     ]
    }
   ],
   "source": [
    "#mengganti isi urutan yang dipilih (misal pada code ini adalah urutan ke-0) menjadi isi yang baru\n",
    "NIM[0]='033 Adina'\n",
    "print(NIM)"
   ]
  },
  {
   "cell_type": "code",
   "execution_count": 7,
   "id": "c91a4018",
   "metadata": {},
   "outputs": [
    {
     "name": "stdout",
     "output_type": "stream",
     "text": [
      " Hasil output pertama :\n",
      "['003 Naftalia', '004 Rika']\n",
      "\n",
      "Hasil Output kedua :\n",
      "['033 Adina', '002 Ariasih', '004 Rika']\n"
     ]
    }
   ],
   "source": [
    "print(\" Hasil output pertama :\")\n",
    "\n",
    "#mencetak urutan dari urutan ke-3 sampai urutan ke-4\n",
    "print(NIM[3:5])\n",
    "\n",
    "print(\"\\nHasil Output kedua :\")\n",
    "#mencetak urutan dari urutan ke-0 sampai urutan ke-6 dengan 2 loncatan\n",
    "print(NIM[0:6:2])"
   ]
  },
  {
   "cell_type": "code",
   "execution_count": 8,
   "id": "e9cf925d",
   "metadata": {},
   "outputs": [
    {
     "name": "stdout",
     "output_type": "stream",
     "text": [
      "['033 Adina', '001 Jaya', '002 Ariasih', '003 Naftalia', '004 Rika', '005 Kleo']\n"
     ]
    }
   ],
   "source": [
    "#tidak merubah list\n",
    "#list yang dipakai merupakan list terbaru, dimana urutan ke-0 sudah menjadi 033 Adina\n",
    "print(NIM)"
   ]
  },
  {
   "cell_type": "markdown",
   "id": "dab31672",
   "metadata": {},
   "source": [
    "# 5.13 Metoda List"
   ]
  },
  {
   "cell_type": "code",
   "execution_count": 9,
   "id": "c9a8e59f",
   "metadata": {},
   "outputs": [
    {
     "name": "stdout",
     "output_type": "stream",
     "text": [
      "['Adina', 'Nur Halimah']\n"
     ]
    }
   ],
   "source": [
    "#penggunaan koma untuk menghitung banyaknya data yang masuk ke dalam list\n",
    "\n",
    "#akan terbaca menjadi 2 objek data dalam list karena tidak menggunakan tanda baca koma\n",
    "nama = ['Adina','Nur ' 'Halimah']\n",
    "print(nama)"
   ]
  },
  {
   "cell_type": "code",
   "execution_count": 10,
   "id": "d0131533",
   "metadata": {},
   "outputs": [
    {
     "name": "stdout",
     "output_type": "stream",
     "text": [
      "2\n"
     ]
    }
   ],
   "source": [
    "#menghitung banyaknya jumlah data yang masuk di dalam list\n",
    "print(len(nama))"
   ]
  },
  {
   "cell_type": "code",
   "execution_count": 11,
   "id": "aab834c9",
   "metadata": {},
   "outputs": [
    {
     "name": "stdout",
     "output_type": "stream",
     "text": [
      "['Adina', 'Nur', 'Halimah', 'Sanwani']\n"
     ]
    }
   ],
   "source": [
    "nama = ['Adina','Nur', 'Halimah']\n",
    "\n",
    "#penggunaan append untuk menambah list data pada urutan terakhir\n",
    "nama.append('Sanwani')\n",
    "print(nama)"
   ]
  },
  {
   "cell_type": "code",
   "execution_count": 12,
   "id": "86065347",
   "metadata": {},
   "outputs": [
    {
     "name": "stdout",
     "output_type": "stream",
     "text": [
      "['Andi', 'Adina', 'Nur', 'Halimah', 'Sanwani']\n"
     ]
    }
   ],
   "source": [
    "#penggunaan insert 0 untuk menambahkan data pada urutan awal\n",
    "#bila menggunakan insert 1, maka objek yang akan ditambahkan menjadi urutan 1\n",
    "\n",
    "nama.insert(0,'Andi')\n",
    "print(nama)\n",
    "\n",
    "# ! ! ! hati-hati ketika run, jika ke run 2x maka data yang dimasukkan akan ke-double ! ! !"
   ]
  },
  {
   "cell_type": "code",
   "execution_count": 13,
   "id": "5c55cc66",
   "metadata": {},
   "outputs": [
    {
     "name": "stdout",
     "output_type": "stream",
     "text": [
      "['Andi', 'Adina', 'Nur', 'Halimah']\n"
     ]
    }
   ],
   "source": [
    "#berfungsi untuk menghapus objek data yang berada di dalam list\n",
    "nama.remove('Sanwani')\n",
    "print(nama)"
   ]
  },
  {
   "cell_type": "code",
   "execution_count": 14,
   "id": "2aba4f5b",
   "metadata": {},
   "outputs": [
    {
     "name": "stdout",
     "output_type": "stream",
     "text": [
      "Hasil output pertama :\n",
      "True\n",
      "\n",
      "Hasil output kedua :\n",
      "False\n"
     ]
    }
   ],
   "source": [
    "#berfungsi untuk mengetahui apakah objek data terdapat dalam list data atau tidak\n",
    "\n",
    "#akan bernilai True bila objek terdapat dalam list data\n",
    "print(\"Hasil output pertama :\")\n",
    "print('Adina'in nama)\n",
    "\n",
    "#akan bernilai false apabila objek tidak terdapat dalam list data\n",
    "print(\"\\nHasil output kedua :\")\n",
    "print('Sanwani' in nama)"
   ]
  },
  {
   "cell_type": "code",
   "execution_count": 15,
   "id": "341cbb8e",
   "metadata": {},
   "outputs": [
    {
     "name": "stdout",
     "output_type": "stream",
     "text": [
      "4\n"
     ]
    }
   ],
   "source": [
    "print(len(nama))"
   ]
  },
  {
   "cell_type": "markdown",
   "id": "280be1eb",
   "metadata": {},
   "source": [
    "# 5.14 For Loop"
   ]
  },
  {
   "cell_type": "code",
   "execution_count": 16,
   "id": "f5f84794",
   "metadata": {},
   "outputs": [
    {
     "name": "stdout",
     "output_type": "stream",
     "text": [
      "jalak\n",
      "gereja\n",
      "lovebird\n",
      "merpati\n",
      "merak\n"
     ]
    }
   ],
   "source": [
    "#untuk memanggil semua isi list\n",
    "burung = ['jalak','gereja','lovebird','merpati','merak']\n",
    "\n",
    "#menggunakan for --- in --- untuk mencetak isi list pada looping for\n",
    "for jenis in burung :\n",
    "    print (jenis)\n",
    "#list yang dicetak akan berbentuk 1 data 1 baris"
   ]
  },
  {
   "cell_type": "code",
   "execution_count": 17,
   "id": "fbf5893e",
   "metadata": {},
   "outputs": [
    {
     "name": "stdout",
     "output_type": "stream",
     "text": [
      "jalak\n",
      "gereja\n",
      "lovebird\n",
      "merpati\n",
      "merak\n"
     ]
    }
   ],
   "source": [
    "#perbedaan penggunaan while dengen for\n",
    "\n",
    "i = 0\n",
    "while i < 5:\n",
    "    print(burung[i])\n",
    "    i+=1\n",
    "    \n",
    "#while akan mengeksekusi bila bernilai True\n",
    "#for akan mengeksekusi bila menggunakan for --- in --- ketika memanggil list"
   ]
  },
  {
   "cell_type": "code",
   "execution_count": 18,
   "id": "6e6e4422",
   "metadata": {},
   "outputs": [
    {
     "name": "stdout",
     "output_type": "stream",
     "text": [
      "M\n",
      "a\n",
      "r\n",
      "k\n",
      "i\n",
      "s\n",
      "a\n"
     ]
    }
   ],
   "source": [
    "#jika kita punya data string\n",
    "\n",
    "buah = 'Markisa'\n",
    "for nama_buah in buah :\n",
    "    print(nama_buah)\n",
    "    \n",
    "#output yang akan dihasilkan adalah looping perhuruf"
   ]
  },
  {
   "cell_type": "code",
   "execution_count": 19,
   "id": "0f3f3aa1",
   "metadata": {},
   "outputs": [
    {
     "name": "stdout",
     "output_type": "stream",
     "text": [
      "1\n",
      "2\n",
      "SPADAWWWWWWW!\n",
      "3\n",
      "4\n",
      "5\n"
     ]
    }
   ],
   "source": [
    "#penggabungan penggunaan while dan for \n",
    "\n",
    "i = 0\n",
    "while i < 5 :\n",
    "    i+=1\n",
    "    \n",
    "    if i == 3:\n",
    "        #akan mencetak \"SPADAWWWWW!\" ketika i = 3, sehingga angka 3 diganti oleh kata yang dimasukkan dalam if\n",
    "        #lalu akan lanjut dengan pengeksekusian loop while lagi\n",
    "        print(\"SPADAWWWWWWW!\")\n",
    "    print(i)"
   ]
  },
  {
   "cell_type": "markdown",
   "id": "5793f9ce",
   "metadata": {},
   "source": [
    "# 5.15 Fungsi Range"
   ]
  },
  {
   "cell_type": "code",
   "execution_count": 20,
   "id": "8fe62217",
   "metadata": {},
   "outputs": [
    {
     "name": "stdout",
     "output_type": "stream",
     "text": [
      "range(0, 11)\n"
     ]
    }
   ],
   "source": [
    "#berfungsi untuk membangkitkan bilangan berurutan sesuai yang diinginkan\n",
    "\n",
    "angka = range(11)\n",
    "print (angka)"
   ]
  },
  {
   "cell_type": "code",
   "execution_count": 21,
   "id": "ed9c4265",
   "metadata": {},
   "outputs": [
    {
     "name": "stdout",
     "output_type": "stream",
     "text": [
      "0\n",
      "1\n",
      "2\n",
      "3\n",
      "4\n",
      "5\n",
      "6\n",
      "7\n",
      "8\n",
      "9\n",
      "10\n"
     ]
    }
   ],
   "source": [
    "for isi in angka :\n",
    "    print(isi)\n",
    "    \n",
    "#memanggil semua isi list dan looping per angka, sehingga 1 angka 1 baris\n",
    "#memanggil dari urutan ke-0 sampai urutan ke-11 (sesuat sintaks pada python)"
   ]
  },
  {
   "cell_type": "code",
   "execution_count": 22,
   "id": "abf0dd62",
   "metadata": {},
   "outputs": [
    {
     "name": "stdout",
     "output_type": "stream",
     "text": [
      "output pertama\n",
      "4\n",
      "5\n",
      "6\n",
      "\n",
      "output kedua\n",
      "0\n",
      "2\n",
      "4\n",
      "6\n",
      "8\n"
     ]
    }
   ],
   "source": [
    "print(\"output pertama\")\n",
    "\n",
    "#berfungsi untuk memanggil urutan ke-4 sampai urutan ke-6\n",
    "for isi in range(4,7):\n",
    "    print(isi)\n",
    "\n",
    "print(\"\\noutput kedua\")\n",
    "\n",
    "#berfungsi untuk memanggil urutan ke-0 sampai ke-10 lalu loncat 2\n",
    "for isi in range (0,10,2):\n",
    "    print(isi)"
   ]
  },
  {
   "cell_type": "code",
   "execution_count": 23,
   "id": "f06474f8",
   "metadata": {},
   "outputs": [
    {
     "name": "stdout",
     "output_type": "stream",
     "text": [
      "Hasil 0utput program pertama :\n",
      "8\n",
      "\n",
      "Hasil output program kedua :\n",
      "-1\n"
     ]
    }
   ],
   "source": [
    "#mencari nilai minimum dan maksimum\n",
    "\n",
    "print(\"Hasil 0utput program pertama :\")\n",
    "data = [1,2,3,4,5,6,8,5,4,3,2,1,-1]\n",
    "terbesar = data[0]\n",
    "\n",
    "#disini merupakan letak perulangan\n",
    "#perulangan for untuk memeriksa setiap nilai apakah lebih besar dari nilai terbesar yang pernah dicatat sebelumnya\n",
    "for i in range(len(data)): \n",
    "    if data[i] > terbesar :\n",
    "        terbesar = data[i]\n",
    "        #bila pengulangan tidak menemukan angka yang lebih besar dari data sebelumnya, maka angka dalam data tersebut = terbesar\n",
    "print(terbesar)\n",
    "\n",
    "\n",
    "#untuk mencari minimum menggunakan logika sebaliknya dari program sebelumnya\n",
    "print(\"\\nHasil output program kedua :\")\n",
    "terkecil = data [0]\n",
    "for i in range(len(data)):\n",
    "    if data[i] < terkecil :\n",
    "        terkecil = data[i]\n",
    "print(terkecil)"
   ]
  }
 ],
 "metadata": {
  "kernelspec": {
   "display_name": "Python 3 (ipykernel)",
   "language": "python",
   "name": "python3"
  },
  "language_info": {
   "codemirror_mode": {
    "name": "ipython",
    "version": 3
   },
   "file_extension": ".py",
   "mimetype": "text/x-python",
   "name": "python",
   "nbconvert_exporter": "python",
   "pygments_lexer": "ipython3",
   "version": "3.9.13"
  }
 },
 "nbformat": 4,
 "nbformat_minor": 5
}
