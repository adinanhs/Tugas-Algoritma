{
 "cells": [
  {
   "cell_type": "markdown",
   "id": "8bf50975",
   "metadata": {},
   "source": [
    "Tugas III pada pertemuan Senin, 20 Maret 2023"
   ]
  },
  {
   "cell_type": "markdown",
   "id": "20df6b19",
   "metadata": {},
   "source": [
    "# 5.5 String Index"
   ]
  },
  {
   "cell_type": "code",
   "execution_count": 1,
   "id": "5b80676f",
   "metadata": {},
   "outputs": [
    {
     "name": "stdout",
     "output_type": "stream",
     "text": [
      "a Pakai Provider Telkomsel\n"
     ]
    }
   ],
   "source": [
    "A = 'Adina Pakai Provider Telkomsel'\n",
    "print (A[4:])\n",
    "\n",
    "#perhatikan posisi titik dua.\n",
    "#code di atas akan menghasilkan output berurut mulai dari urutan ke-4 sampai urutan terakhir.\n",
    "#urutan dimulai dari 0, 1, 2, 3, 4, ... sehingga output urutan ke-4 yang keluar adalah huruf 'a', bukan 'n'."
   ]
  },
  {
   "cell_type": "code",
   "execution_count": 2,
   "id": "7aecc95f",
   "metadata": {},
   "outputs": [
    {
     "name": "stdout",
     "output_type": "stream",
     "text": [
      "na Pak\n"
     ]
    }
   ],
   "source": [
    "print(A[3:9])\n",
    "\n",
    "#sesuai syntax pada phyton dimana apabila index angka yang dimasukkan adalah angka 9, maka output yang keluar adalah urutan ke-8.\n",
    "#sehingga code tersebut akan menghasilkan output urutan ke-3 sampai urutan ke-8."
   ]
  },
  {
   "cell_type": "code",
   "execution_count": 3,
   "id": "42067be6",
   "metadata": {},
   "outputs": [
    {
     "name": "stdout",
     "output_type": "stream",
     "text": [
      "Adina Pakai Provider Tel\n"
     ]
    }
   ],
   "source": [
    "print(A[:-6])\n",
    "\n",
    "#perhatikan posisi titik dua\n",
    "#jika terdapat minus seperti ini, maka output yang akan dihasilkan adalah semua urutan dari urutan ke-0 sampai urutan ke-(-6)\n",
    "#dimana arti -6 adalah bahwa 6 urutan dari belakang data string tidak dimasukkan ke dalam hasil output\n",
    "#Mis : telkomsel, maka\n",
    "#l = -1\n",
    "#e = -2\n",
    "#s = -3\n",
    "#m = -4\n",
    "#o = -5\n",
    "#k = -6\n",
    "#sehingga output yang diprint hanya Adina Pakai Provider Tel"
   ]
  },
  {
   "cell_type": "code",
   "execution_count": 4,
   "id": "4a48d71e",
   "metadata": {},
   "outputs": [
    {
     "name": "stdout",
     "output_type": "stream",
     "text": [
      "Adina Pakai Provider Telkomsel\n"
     ]
    }
   ],
   "source": [
    "print (A[:])\n",
    "\n",
    "#code ini akan menghasilkan output variabel A. Dimana akan menghasilkan dari urutan ke-0 sampai urutan terakhir."
   ]
  },
  {
   "cell_type": "code",
   "execution_count": 5,
   "id": "38657ace",
   "metadata": {},
   "outputs": [
    {
     "name": "stdout",
     "output_type": "stream",
     "text": [
      "Pakai Provider Telkom\n"
     ]
    }
   ],
   "source": [
    "print(A[6:-3])\n",
    "\n",
    "#akan dihasilkan output dari urutan ke-5 sampai dengan urutan ke-(-3)\n",
    "#dimana 3 huruf dari belakang data string tidak dimasukkan ke dalam hasil output"
   ]
  },
  {
   "cell_type": "code",
   "execution_count": 6,
   "id": "ac1ca1cb",
   "metadata": {},
   "outputs": [
    {
     "name": "stdout",
     "output_type": "stream",
     "text": [
      "iaPde\n"
     ]
    }
   ],
   "source": [
    "print(A[2:23:5])\n",
    "\n",
    "#apabila terdapat 3 angka seperti diatas, maka 2 angka di depan berfungsi sebagai batas panjang urutan\n",
    "#lalu angka yang paling belakang berfungsi sebagai loncat\n",
    "#langkah awal adalah pengurutan urutan ke-2 sampai urutan ke-22, lalu loncat sebanyak 5 loncatan\n",
    "#sehingga hasil akhirnya merupakan urutan-urutan antara 2 sampai 22 yang telah diloncat 5 loncatan"
   ]
  },
  {
   "cell_type": "code",
   "execution_count": 7,
   "id": "e35699e2",
   "metadata": {},
   "outputs": [
    {
     "name": "stdout",
     "output_type": "stream",
     "text": [
      "\n"
     ]
    }
   ],
   "source": [
    "print (A[-6:1])\n",
    "\n",
    "#tidak menghasilkan urutan-urutan karakter (output kosong tetapi tidak error)\n",
    "#dimana minus seharusnya berada di belakang titik dua apabila ingin mengurutkan dengan 2 angka dari positif ke negatif"
   ]
  },
  {
   "cell_type": "code",
   "execution_count": 8,
   "id": "cebca871",
   "metadata": {},
   "outputs": [
    {
     "name": "stdout",
     "output_type": "stream",
     "text": [
      "lkomsel\n"
     ]
    }
   ],
   "source": [
    "print(A[-7:])\n",
    "\n",
    "#perhatikan posisi titik dua\n",
    "#apabila pengurutan minus dan titik dua di belakang angka minus, maka output yang akan dicetak adalah urutan-urutan dari belakang\n",
    "#dimana urutan dari -1 sampai urutan -7"
   ]
  },
  {
   "cell_type": "code",
   "execution_count": 9,
   "id": "992f610f",
   "metadata": {},
   "outputs": [
    {
     "name": "stdout",
     "output_type": "stream",
     "text": [
      "Adina\n"
     ]
    }
   ],
   "source": [
    "print(A[:5])\n",
    "\n",
    "#perhatikan posisi titik dua\n",
    "#apabila posisi titik dua di depan angka positif, maka output yang dihasilkan adalah urutan tanpa mulai dari urutan ke-0\n",
    "#sehingga string index ini akan mengurut mulai dari urutan 1.\n",
    "#A = 1\n",
    "#d = 2\n",
    "#i = 3\n",
    "#n = 4\n",
    "#a = 5\n",
    "#hal tersebut juga mungkin bisa menjadi alasan mengapa string index 2 angka (mis: [3:9]), menyebabkan urutan yang keluar adalah urutan ke-8 (urutan mulai dari 0)\n",
    "#karena urutan ke-9 dalam :9 akan menghasilkan urutan ke-9 dimana urutan dimulai dari 1"
   ]
  },
  {
   "cell_type": "markdown",
   "id": "37321278",
   "metadata": {},
   "source": [
    "# 5.6 String Methods"
   ]
  },
  {
   "cell_type": "code",
   "execution_count": 10,
   "id": "3171d2d6",
   "metadata": {},
   "outputs": [
    {
     "name": "stdout",
     "output_type": "stream",
     "text": [
      "17\n"
     ]
    }
   ],
   "source": [
    "B = \"BTS Paved The Way\"\n",
    "print (len(B))\n",
    "\n",
    "#berfungsi untuk mengetahui banyaknya jumlah karakter dalam variabel\n",
    "#dimana huruf, spasi, angka, simbol yang di dalam variabel akan terhitung semua"
   ]
  },
  {
   "cell_type": "code",
   "execution_count": 11,
   "id": "386f0e51",
   "metadata": {},
   "outputs": [
    {
     "name": "stdout",
     "output_type": "stream",
     "text": [
      "BTS PAVED THE WAY\n"
     ]
    }
   ],
   "source": [
    "print(B.upper())\n",
    "\n",
    "#akan mencetak semua karakter dalam variabel dengan huruf kapital"
   ]
  },
  {
   "cell_type": "code",
   "execution_count": 12,
   "id": "b82b4335",
   "metadata": {},
   "outputs": [
    {
     "name": "stdout",
     "output_type": "stream",
     "text": [
      "bts paved the way\n"
     ]
    }
   ],
   "source": [
    "print(B.lower())\n",
    "\n",
    "#akan mencetak semua karakter dalam variabel dengan huruf kecil"
   ]
  },
  {
   "cell_type": "code",
   "execution_count": 13,
   "id": "c9cb74d7",
   "metadata": {},
   "outputs": [
    {
     "data": {
      "text/plain": [
       "10"
      ]
     },
     "execution_count": 13,
     "metadata": {},
     "output_type": "execute_result"
    }
   ],
   "source": [
    "B.find('The')\n",
    "\n",
    "#berfungsi untuk menemukan letak karakter yang ingin dicari berada diurutan ke berapa\n",
    "#karakter dihitung mulai dari urutan 0\n",
    "#hitungan karakter yang dicari mulai dari urutan karakter pertama pada kata"
   ]
  },
  {
   "cell_type": "code",
   "execution_count": 14,
   "id": "b7789204",
   "metadata": {},
   "outputs": [
    {
     "data": {
      "text/plain": [
       "-1"
      ]
     },
     "execution_count": 14,
     "metadata": {},
     "output_type": "execute_result"
    }
   ],
   "source": [
    "B.find('bts')\n",
    "\n",
    "#jika karakter yang dicari tidak dapat ditemukan, maka output akan menghasilkan -1"
   ]
  },
  {
   "cell_type": "code",
   "execution_count": 15,
   "id": "97146461",
   "metadata": {},
   "outputs": [
    {
     "data": {
      "text/plain": [
       "'Adina Paved The Way'"
      ]
     },
     "execution_count": 15,
     "metadata": {},
     "output_type": "execute_result"
    }
   ],
   "source": [
    "B.replace('BTS', 'Adina')\n",
    "\n",
    "#kata yang dipilih (ingin diubah) akan berganti menjadi kata baru"
   ]
  },
  {
   "cell_type": "code",
   "execution_count": 16,
   "id": "32d793ff",
   "metadata": {},
   "outputs": [
    {
     "data": {
      "text/plain": [
       "'BTS Paved The Way'"
      ]
     },
     "execution_count": 16,
     "metadata": {},
     "output_type": "execute_result"
    }
   ],
   "source": [
    "B.replace('bts', 'Adina')\n",
    "\n",
    "#jika kata yang dipilih tidak sesuai dengan yang ada dalam variabel, maka tidak akan terjadi perubahan"
   ]
  },
  {
   "cell_type": "code",
   "execution_count": 17,
   "id": "44823796",
   "metadata": {},
   "outputs": [
    {
     "name": "stdout",
     "output_type": "stream",
     "text": [
      "True\n",
      "False\n"
     ]
    }
   ],
   "source": [
    "print('BTS'in B)\n",
    "print('bts'in B)\n",
    "\n",
    "#akan terjadi tipe data boolean, dimana menghasilkan output True bila kata yang dicetak benar terdapat di dalam variabel\n",
    "#dan akan menghasilkan output False bila kata yang dicetak tidak ada di dalam variabel"
   ]
  },
  {
   "cell_type": "markdown",
   "id": "7f914916",
   "metadata": {},
   "source": [
    "# 5.7 Operasi Matematika di Phyton"
   ]
  },
  {
   "cell_type": "code",
   "execution_count": 18,
   "id": "3f2dd26a",
   "metadata": {},
   "outputs": [
    {
     "name": "stdout",
     "output_type": "stream",
     "text": [
      "Masukkan nilai x : 7\n",
      "Masukkan nilai y : 6\n",
      "13\n",
      "1\n",
      "42\n",
      "1.1666666666666667\n",
      "1\n",
      "1\n",
      "117649\n",
      "14.0\n"
     ]
    }
   ],
   "source": [
    "x = input(\"Masukkan nilai x : \")\n",
    "y = input(\"Masukkan nilai y : \")\n",
    "\n",
    "#operasi penjumlahan\n",
    "print(int(x)+int(y))\n",
    "\n",
    "#operasi pengurangan\n",
    "print(int(x)-int(y))\n",
    "\n",
    "#operasi perkalian\n",
    "print(int(x)*int(y))\n",
    "\n",
    "#operasi pembagian\n",
    "print(int(x)/int(y))\n",
    "\n",
    "#operasi pembulatan pembagian\n",
    "print(int(x)//int(y))\n",
    "\n",
    "#operasi modulo\n",
    "print(int(x)%int(y))\n",
    "\n",
    "#operasi pangkat\n",
    "print(int(x)**int(y))\n",
    "\n",
    "print (int(x)+int(y)*int(x)/int(y))"
   ]
  },
  {
   "cell_type": "code",
   "execution_count": 19,
   "id": "260b2d88",
   "metadata": {},
   "outputs": [
    {
     "name": "stdout",
     "output_type": "stream",
     "text": [
      "9\n",
      "8\n",
      "17\n"
     ]
    }
   ],
   "source": [
    "x = 6\n",
    "y = 5\n",
    "\n",
    "#akan dicetak x = x + 3 dan y = y + 3\n",
    "x+=3\n",
    "y+=3\n",
    "print(x)\n",
    "print(y)\n",
    "\n",
    "x+=y\n",
    "print(x)\n",
    "#setelah variabel awal telah dicetak, print berikutnya akan menggunakan hasil variabel x dan y terbaru\n",
    "#sehingga x+=y dimana x = x + y tidak akan menghasilkan 11, namun 17\n",
    "#karena x telah menjadi 9, dan y telah menjadi 8"
   ]
  },
  {
   "cell_type": "code",
   "execution_count": 20,
   "id": "505ee541",
   "metadata": {},
   "outputs": [
    {
     "name": "stdout",
     "output_type": "stream",
     "text": [
      "3\n",
      "2\n"
     ]
    }
   ],
   "source": [
    "x = 6\n",
    "y = 5\n",
    "\n",
    "#akan dicetak x = x - 3 dan y = y -3\n",
    "x-=3\n",
    "y-=3\n",
    "print(x)\n",
    "print(y)"
   ]
  },
  {
   "cell_type": "code",
   "execution_count": 21,
   "id": "ce10595d",
   "metadata": {},
   "outputs": [
    {
     "name": "stdout",
     "output_type": "stream",
     "text": [
      "18\n",
      "15\n"
     ]
    }
   ],
   "source": [
    "x = 6\n",
    "y = 5\n",
    "\n",
    "#akan dicetak x = x*3 dan y = y*3\n",
    "x*=3\n",
    "y*=3\n",
    "print(x)\n",
    "print(y)"
   ]
  },
  {
   "cell_type": "markdown",
   "id": "8e48eb8f",
   "metadata": {},
   "source": [
    "# 5.8 Operator Perbandingan di Phyton"
   ]
  },
  {
   "cell_type": "code",
   "execution_count": 22,
   "id": "31aa571d",
   "metadata": {},
   "outputs": [
    {
     "name": "stdout",
     "output_type": "stream",
     "text": [
      "False\n",
      "True\n",
      "True\n",
      "True\n",
      "False\n",
      "False\n",
      "False\n",
      "True\n",
      "True\n",
      "True\n",
      "True\n",
      "False\n",
      "-2\n",
      "False\n",
      "-1\n",
      "0\n"
     ]
    }
   ],
   "source": [
    "#operator perbandingan akan menghasilkan boolean\n",
    "#output yang dicetak adalah True atau False\n",
    "\n",
    "p = 6\n",
    "q = 5\n",
    "\n",
    "#sama dengan\n",
    "a = p == 5\n",
    "b = q == 5\n",
    "print (a)\n",
    "print (b)\n",
    "\n",
    "#lebih besar\n",
    "a = p > 3\n",
    "b = q > 3\n",
    "print (a)\n",
    "print (b)\n",
    "\n",
    "#kurang dari\n",
    "a = p < 5\n",
    "b = q < 5\n",
    "print (a)\n",
    "print (b)\n",
    "\n",
    "#kurang dari sama dengan\n",
    "a = p <= 5\n",
    "b = q <= 5\n",
    "print (a)\n",
    "print (b)\n",
    "\n",
    "#lebih besar sama dengan\n",
    "a = p >= 5\n",
    "b = q >= 5\n",
    "print (a)\n",
    "print (b)\n",
    "\n",
    "#tidak sama dengan\n",
    "a = p != 5\n",
    "b = q != 5\n",
    "print (a)\n",
    "print (b)\n",
    "#negasi menggunakan simbol ~ untuk menghasilkan -1 (True) atau -2 (False)\n",
    "print (~a)\n",
    "\n",
    "a = 3 < p < 4\n",
    "print (a)\n",
    "print (~a)\n",
    "#negasi menggunakan simbol - untuk menghasilkan 0 (True) atau -1 (False) ---- asumsi\n",
    "print(-a)"
   ]
  },
  {
   "cell_type": "markdown",
   "id": "ed70a3ce",
   "metadata": {},
   "source": [
    "# 5.9 Operator Logika di Phyton"
   ]
  },
  {
   "cell_type": "code",
   "execution_count": 23,
   "id": "f5232153",
   "metadata": {},
   "outputs": [
    {
     "name": "stdout",
     "output_type": "stream",
     "text": [
      "True\n",
      "False\n",
      "-2\n"
     ]
    }
   ],
   "source": [
    "x = 3\n",
    "y = 2\n",
    "print(x>3 or y<=2)\n",
    "print(not(x>3 or y<=2))\n",
    "print(~(x>3 or y<=2))\n",
    "\n",
    "#menghasilkan tipe data boolean, dimana operasi ini menggunakan logika matematika seperti dan, atau\n",
    "#output pertama akan menghasilkan True karena dalam logika 'or' bila terdapat salah satu pernyataan yang benar, maka hasilnya adalah benar\n",
    "#output kedua akan menghasilkan False karena merupakan negasi dari output pertama, dimana bila True maka negasinya False\n",
    "#penggunaan not dalam negasi akan menghasilkan output boolean, berbeda dengan menggunakan simbol ~"
   ]
  },
  {
   "cell_type": "code",
   "execution_count": 24,
   "id": "803581dc",
   "metadata": {},
   "outputs": [
    {
     "name": "stdout",
     "output_type": "stream",
     "text": [
      "False\n",
      "True\n",
      "-1\n"
     ]
    }
   ],
   "source": [
    "print (x>3 and y<=2)\n",
    "print(not(x>3 and y<=2))\n",
    "print(~(x>3 and y<=2))\n",
    "\n",
    "#output pertama akan menghasilkan false karena apabila terdapat salah satu pernyataan salah dalam logika 'dan' maka hasil akan salah\n",
    "#output kedua akan menghasilkan True karena merupakan negasi dari output pertama, dimana bila False maka negasinya True"
   ]
  },
  {
   "cell_type": "markdown",
   "id": "2932ec5c",
   "metadata": {},
   "source": [
    "# 5.10 Operator if di Phyton"
   ]
  },
  {
   "cell_type": "code",
   "execution_count": 25,
   "id": "004c98be",
   "metadata": {},
   "outputs": [
    {
     "name": "stdout",
     "output_type": "stream",
     "text": [
      "100\n",
      "11\n"
     ]
    }
   ],
   "source": [
    "y = 1\n",
    "x = 10\n",
    "\n",
    "if x <= 10:\n",
    "    y = x**2\n",
    "    x = x + 1\n",
    "    print (y)\n",
    "    print (x)\n",
    "    \n",
    "#apabila sudah masuk ke dalam operator if, maka pencetakan yang terjadi adalah yang terbaru\n",
    "#bila x variabel memenuhi x dalam if, maka y dapat dideklarasikan (dengan catatan y berubah menjadi variabel baru)\n",
    "#dimana y = x**2, sehingga output yang dihasilkan adalah y dengan variabel di dalam if\n",
    "\n",
    "#begitupula dengan x, jika x variabel memenuhi x dalam if, maka x dapat dideklarasikan\n",
    "#sehingga output yang dihasilkan adalah x = x + 1"
   ]
  },
  {
   "cell_type": "code",
   "execution_count": 26,
   "id": "944b4490",
   "metadata": {},
   "outputs": [],
   "source": [
    "y = 1\n",
    "x = 10\n",
    "\n",
    "if x < 10:\n",
    "    y = x**2\n",
    "    x = x + 1\n",
    "    print (y)\n",
    "    print (x)\n",
    "    \n",
    "#hasil ini tidak memiliki output, karena x variabel tidak memenuhi x dalam operator if."
   ]
  },
  {
   "cell_type": "code",
   "execution_count": 27,
   "id": "85ced63f",
   "metadata": {},
   "outputs": [
    {
     "name": "stdout",
     "output_type": "stream",
     "text": [
      "Nilai anda adalah : 88\n",
      "OMG! What a nice result!\n"
     ]
    }
   ],
   "source": [
    "nilai=float(input(\"Nilai anda adalah : \"))\n",
    "if nilai >= 80:\n",
    "    print (\"OMG! What a nice result!\")\n",
    "if nilai >=55 and nilai <80:\n",
    "    print (\"Do better next time\")\n",
    "if nilai >=30 and nilai <55:\n",
    "    print (\"STUDY PLEASE!!!\")\n",
    "\n",
    "#akan menghasilkan code paramenter\n",
    "#output yang dihasilkan sesuai dengan nilai yang kita input dalam paramenter\n",
    "#apabila nilai yang diinput tidak terdapat dalam if, maka tidak akan menghasilkan print"
   ]
  },
  {
   "cell_type": "code",
   "execution_count": 28,
   "id": "39b49626",
   "metadata": {},
   "outputs": [
    {
     "name": "stdout",
     "output_type": "stream",
     "text": [
      "Nilai anda adalah : 88\n",
      "YEAHHHH YOU GOOD!\n",
      "Nice try\n"
     ]
    }
   ],
   "source": [
    "nilai=float(input(\"Nilai anda adalah : \"))\n",
    "if nilai >=80:\n",
    "    print (\"YEAHHHH YOU GOOD!\")\n",
    "if nilai >= 55:\n",
    "        print (\"Nice try\")\n",
    "        \n",
    "#code akan menghasilkan output, namun apabila perintah tidak jelas maka print akan tercetak semua\n",
    "#misal bila input nilai diatas 80, maka akan mencetak kata untuk >=80 dan kata untuk >= 55\n",
    "#sehingga bila menggunakan if lebih baik menulis perintah dengan jelas"
   ]
  },
  {
   "cell_type": "code",
   "execution_count": 29,
   "id": "4be576f9",
   "metadata": {},
   "outputs": [
    {
     "name": "stdout",
     "output_type": "stream",
     "text": [
      "Tinggi anda adalah : 190\n",
      "Kamu memiliki kesempatan menjadi model\n"
     ]
    }
   ],
   "source": [
    "tinggi = float(input(\"Tinggi anda adalah : \"))\n",
    "if tinggi >= 180:\n",
    "    print(\"Kamu memiliki kesempatan menjadi model\")\n",
    "elif tinggi >= 170:\n",
    "    print (\"Kamu memiliki kesempatan menjadi pramugari\")\n",
    "    \n",
    "#penggunakan elif agar apabila input yang dimasukkan juga lebih dari 180, maka print untuk tinggi >= 170 tidak akan tercetak\n",
    "#sehingga output yang di dapat hanya print untuk tinggi >= 180"
   ]
  },
  {
   "cell_type": "code",
   "execution_count": 30,
   "id": "4a4ee810",
   "metadata": {},
   "outputs": [
    {
     "name": "stdout",
     "output_type": "stream",
     "text": [
      "Berapakah nominal uang anda? 15255\n",
      "Nominalnya dalam Rp atau USD? rp\n",
      "Nominal uang anda adalah : 1.0 USD\n"
     ]
    }
   ],
   "source": [
    "#penggunaan if dan elif dalam convert usd -> rp atau rp -> usd\n",
    "\n",
    "uang = float(input(\"Berapakah nominal uang anda? \"))\n",
    "rp_or_usd = input(\"Nominalnya dalam Rp atau USD? \")\n",
    "if rp_or_usd.upper() == 'RP':\n",
    "    uang = uang/15255\n",
    "    print(\"Nominal uang anda adalah : \" +str(uang) + ' USD')\n",
    "elif rp_or_usd.upper() == 'USD':\n",
    "    uang = uang*15255\n",
    "    print(f\"Nominal uang anda adalah {uang} rupiah\")"
   ]
  }
 ],
 "metadata": {
  "kernelspec": {
   "display_name": "Python 3 (ipykernel)",
   "language": "python",
   "name": "python3"
  },
  "language_info": {
   "codemirror_mode": {
    "name": "ipython",
    "version": 3
   },
   "file_extension": ".py",
   "mimetype": "text/x-python",
   "name": "python",
   "nbconvert_exporter": "python",
   "pygments_lexer": "ipython3",
   "version": "3.9.13"
  }
 },
 "nbformat": 4,
 "nbformat_minor": 5
}
